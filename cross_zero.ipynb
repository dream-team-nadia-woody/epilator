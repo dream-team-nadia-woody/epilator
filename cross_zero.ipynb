{
 "cells": [
  {
   "cell_type": "code",
   "execution_count": 2,
   "metadata": {},
   "outputs": [
    {
     "name": "stderr",
     "output_type": "stream",
     "text": [
      "2023-04-17 14:54:29.208365: I tensorflow/core/platform/cpu_feature_guard.cc:182] This TensorFlow binary is optimized to use available CPU instructions in performance-critical operations.\n",
      "To enable the following instructions: AVX2 FMA, in other operations, rebuild TensorFlow with the appropriate compiler flags.\n"
     ]
    }
   ],
   "source": [
    "import pandas as pd\n",
    "import numpy as np\n",
    "import video.df as df\n",
    "from video import vid\n",
    "from video import df\n",
    "from video import frame\n",
    "from video import preprocess as pr\n",
    "\n",
    "import video.reader as r\n",
    "import cv2 as cv\n",
    "from video.reader import VideoReader\n",
    "\n",
    "\n",
    "from typing import List, Union\n",
    "from numpy.typing import ArrayLike\n",
    "\n",
    "import matplotlib.pyplot as plt\n",
    "from importlib import reload"
   ]
  },
  {
   "attachments": {},
   "cell_type": "markdown",
   "metadata": {},
   "source": [
    "### check the potential hazard with zero-crossing algorithm"
   ]
  },
  {
   "cell_type": "code",
   "execution_count": 3,
   "metadata": {},
   "outputs": [],
   "source": [
    "# get the lightness difference\n",
    "v = pr.get_lightness_difference('videos/Banned Pokemon Seizure Scene.mp4')"
   ]
  },
  {
   "cell_type": "code",
   "execution_count": 6,
   "metadata": {},
   "outputs": [
    {
     "data": {
      "text/plain": [
       "array([ 0.0032,  0.0252,  0.024 ,  0.0388,  0.0064,  0.01  , -0.0044,\n",
       "       -0.0076, -0.0064,  0.0044])"
      ]
     },
     "execution_count": 6,
     "metadata": {},
     "output_type": "execute_result"
    }
   ],
   "source": [
    "v[:10]"
   ]
  },
  {
   "cell_type": "code",
   "execution_count": 19,
   "metadata": {},
   "outputs": [],
   "source": [
    "v1 = pr.get_lightness_difference1('videos/Banned Pokemon Seizure Scene.mp4')"
   ]
  },
  {
   "cell_type": "code",
   "execution_count": null,
   "metadata": {},
   "outputs": [
    {
     "data": {
      "text/plain": [
       "array([-0.0032, -0.0252, -0.024 , -0.0388, -0.0064, -0.01  ,  0.0044,\n",
       "        0.0076,  0.0064, -0.0044])"
      ]
     },
     "execution_count": 21,
     "metadata": {},
     "output_type": "execute_result"
    }
   ],
   "source": [
    "v1[:10]"
   ]
  },
  {
   "cell_type": "code",
   "execution_count": 35,
   "metadata": {},
   "outputs": [
    {
     "data": {
      "text/plain": [
       "(784, 784)"
      ]
     },
     "execution_count": 35,
     "metadata": {},
     "output_type": "execute_result"
    }
   ],
   "source": [
    "len(v), len(v1) # v1 is the same as v but opposite signs"
   ]
  },
  {
   "cell_type": "code",
   "execution_count": null,
   "metadata": {},
   "outputs": [
    {
     "data": {
      "text/plain": [
       "array([ 1.,  1.,  1.,  1.,  1.,  1., -1., -1., -1.,  1.])"
      ]
     },
     "execution_count": 7,
     "metadata": {},
     "output_type": "execute_result"
    }
   ],
   "source": [
    "np.sign(v)[:10]"
   ]
  },
  {
   "cell_type": "code",
   "execution_count": 37,
   "metadata": {},
   "outputs": [
    {
     "data": {
      "text/plain": [
       "783"
      ]
     },
     "execution_count": 37,
     "metadata": {},
     "output_type": "execute_result"
    }
   ],
   "source": [
    "len(np.diff(np.sign(v)))"
   ]
  },
  {
   "cell_type": "code",
   "execution_count": 40,
   "metadata": {},
   "outputs": [
    {
     "data": {
      "text/plain": [
       "array([ 0.,  0.,  0.,  0.,  0., -2.,  0.,  0.,  2.,  0.])"
      ]
     },
     "execution_count": 40,
     "metadata": {},
     "output_type": "execute_result"
    }
   ],
   "source": [
    "# if the next sign is the same the difference is going to be 0, els 2 or - 2\n",
    "np.diff(np.sign(v))[:10]"
   ]
  },
  {
   "cell_type": "code",
   "execution_count": 47,
   "metadata": {},
   "outputs": [
    {
     "data": {
      "text/plain": [
       "array([ 6,  9, 12, 13, 24, 26, 30, 31, 36, 38])"
      ]
     },
     "execution_count": 47,
     "metadata": {},
     "output_type": "execute_result"
    }
   ],
   "source": [
    "# get just indexes where the diff is 2 or -2\n",
    "np.where(np.diff(np.sign(v)))[0][:10] + 1"
   ]
  },
  {
   "cell_type": "code",
   "execution_count": 45,
   "metadata": {},
   "outputs": [
    {
     "data": {
      "text/plain": [
       "array([ 0.0032,  0.0252,  0.024 ,  0.0388,  0.0064,  0.01  , -0.0044,\n",
       "       -0.0076, -0.0064,  0.0044])"
      ]
     },
     "execution_count": 45,
     "metadata": {},
     "output_type": "execute_result"
    }
   ],
   "source": [
    "v[:10]"
   ]
  },
  {
   "cell_type": "code",
   "execution_count": 48,
   "metadata": {},
   "outputs": [],
   "source": [
    "zero_crossings = np.where(np.diff(np.sign(v)))[0] + 1"
   ]
  },
  {
   "cell_type": "code",
   "execution_count": 49,
   "metadata": {},
   "outputs": [
    {
     "data": {
      "text/plain": [
       "array([ 6,  9, 12, 13, 24, 26, 30, 31, 36, 38])"
      ]
     },
     "execution_count": 49,
     "metadata": {},
     "output_type": "execute_result"
    }
   ],
   "source": [
    "zero_crossings[:10]"
   ]
  },
  {
   "cell_type": "code",
   "execution_count": 50,
   "metadata": {},
   "outputs": [],
   "source": [
    "zero_crossings1 = np.where(np.diff(np.sign(v1)))[0] + 1"
   ]
  },
  {
   "cell_type": "code",
   "execution_count": 55,
   "metadata": {},
   "outputs": [
    {
     "data": {
      "text/plain": [
       "422"
      ]
     },
     "execution_count": 55,
     "metadata": {},
     "output_type": "execute_result"
    }
   ],
   "source": [
    "zero_crossings.shape[0]"
   ]
  },
  {
   "cell_type": "code",
   "execution_count": 53,
   "metadata": {},
   "outputs": [
    {
     "data": {
      "text/plain": [
       "422"
      ]
     },
     "execution_count": 53,
     "metadata": {},
     "output_type": "execute_result"
    }
   ],
   "source": [
    "# just double confirm that no matter the sign we get same result and \n",
    "# I can use simplier differencing\n",
    "(zero_crossings1 == zero_crossings).sum()"
   ]
  },
  {
   "cell_type": "code",
   "execution_count": 56,
   "metadata": {},
   "outputs": [
    {
     "data": {
      "text/plain": [
       "True"
      ]
     },
     "execution_count": 56,
     "metadata": {},
     "output_type": "execute_result"
    }
   ],
   "source": [
    "(zero_crossings1 == zero_crossings).sum() == zero_crossings.shape[0]"
   ]
  },
  {
   "attachments": {},
   "cell_type": "markdown",
   "metadata": {},
   "source": [
    "Now we need to check if the lightness difference crosses 0 more than 3 times per second."
   ]
  },
  {
   "cell_type": "code",
   "execution_count": 57,
   "metadata": {},
   "outputs": [],
   "source": [
    "# we have 30 frames per second video\n",
    "# if there is more than 3 consecutive zero crossings in 30 frames window\n",
    "# it is a potential hazard\n",
    "fps = 30"
   ]
  },
  {
   "cell_type": "code",
   "execution_count": 59,
   "metadata": {},
   "outputs": [
    {
     "data": {
      "text/plain": [
       "array([  6,   9,  12,  13,  24,  26,  30,  31,  36,  38,  39,  40,  41,\n",
       "        43,  45,  46,  48,  50,  52,  53,  54,  56,  57,  58,  59,  61,\n",
       "        64,  66,  68,  69,  70,  71,  72,  74,  75,  76,  79,  80,  82,\n",
       "        83,  86,  87,  88,  89,  92,  94,  95,  96,  97,  98,  99, 101,\n",
       "       103, 104, 105, 106, 107, 108, 109, 110, 111, 112, 113, 115, 116,\n",
       "       118, 119, 120, 127, 128, 131, 132, 133, 134, 135, 136, 137, 138,\n",
       "       139, 140, 141, 143, 145, 147, 148, 151, 152, 153, 156, 157, 158,\n",
       "       159, 160, 162, 163, 164, 167, 168, 169, 170, 171, 172, 173, 175,\n",
       "       178, 180, 184, 185, 186, 187, 188, 189, 190, 191, 194, 195, 196,\n",
       "       197, 198, 200, 201, 203, 206, 207, 208, 209, 210, 211, 212, 215,\n",
       "       216, 217, 218, 219, 220, 221, 222, 223, 225, 226, 231, 232, 234,\n",
       "       236, 240, 241, 243, 244, 248, 249, 254, 256, 257, 258, 259, 261,\n",
       "       262, 267, 268, 270, 271, 272, 275, 276, 281, 283, 284, 285, 286,\n",
       "       287, 295, 296, 299, 300, 301, 302, 305, 306, 308, 312, 314, 317,\n",
       "       318, 323, 324, 327, 329, 331, 332, 333, 334, 338, 339, 341, 343,\n",
       "       344, 345, 346, 347, 348, 349, 351, 353, 355, 357, 359, 360, 361,\n",
       "       362, 379, 380, 381, 382, 385, 387, 391, 392, 393, 394, 395, 396,\n",
       "       400, 401, 402, 404, 405, 407, 408, 409, 414, 415, 417, 418, 421,\n",
       "       422, 425, 426, 429, 430, 432, 433, 438, 444, 445, 447, 448, 450,\n",
       "       451, 452, 456, 457, 462, 464, 465, 466, 468, 469, 470, 471, 473,\n",
       "       475, 477, 478, 482, 484, 486, 487, 490, 491, 493, 494, 495, 496,\n",
       "       497, 498, 501, 502, 503, 504, 508, 510, 511, 512, 516, 517, 519,\n",
       "       520, 521, 522, 523, 524, 526, 527, 528, 529, 533, 535, 536, 538,\n",
       "       541, 544, 545, 547, 548, 549, 550, 551, 552, 553, 555, 556, 557,\n",
       "       558, 560, 562, 563, 564, 566, 567, 568, 570, 571, 572, 573, 575,\n",
       "       576, 577, 578, 579, 581, 582, 583, 584, 591, 593, 595, 598, 599,\n",
       "       613, 615, 618, 619, 623, 625, 626, 635, 639, 643, 644, 646, 648,\n",
       "       650, 651, 652, 653, 655, 656, 657, 658, 659, 662, 663, 665, 666,\n",
       "       667, 671, 672, 674, 676, 677, 678, 681, 694, 695, 696, 697, 699,\n",
       "       700, 703, 705, 706, 709, 712, 713, 714, 717, 718, 720, 722, 723,\n",
       "       725, 726, 727, 730, 732, 735, 739, 742, 743, 744, 745, 747, 748,\n",
       "       750, 752, 753, 755, 756, 757, 758, 759, 761, 762, 765, 766, 772,\n",
       "       773, 777, 779, 780, 781, 783])"
      ]
     },
     "execution_count": 59,
     "metadata": {},
     "output_type": "execute_result"
    }
   ],
   "source": [
    "zero_crossings"
   ]
  },
  {
   "cell_type": "code",
   "execution_count": null,
   "metadata": {},
   "outputs": [],
   "source": [
    "for i in range"
   ]
  }
 ],
 "metadata": {
  "kernelspec": {
   "display_name": "epilator",
   "language": "python",
   "name": "python3"
  },
  "language_info": {
   "codemirror_mode": {
    "name": "ipython",
    "version": 3
   },
   "file_extension": ".py",
   "mimetype": "text/x-python",
   "name": "python",
   "nbconvert_exporter": "python",
   "pygments_lexer": "ipython3",
   "version": "3.11.0"
  },
  "orig_nbformat": 4
 },
 "nbformat": 4,
 "nbformat_minor": 2
}
