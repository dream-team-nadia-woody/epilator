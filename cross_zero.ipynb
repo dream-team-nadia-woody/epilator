{
 "cells": [
  {
   "cell_type": "code",
   "execution_count": 60,
   "metadata": {},
   "outputs": [],
   "source": [
    "import pandas as pd\n",
    "import numpy as np\n",
    "import video.df as df\n",
    "from video import vid\n",
    "from video import df\n",
    "from video import frame\n",
    "from video import preprocess as pr\n",
    "\n",
    "import video.reader as r\n",
    "import cv2 as cv\n",
    "from video.reader import VideoReader\n",
    "\n",
    "\n",
    "from typing import List, Union\n",
    "from numpy.typing import ArrayLike\n",
    "\n",
    "import matplotlib.pyplot as plt\n",
    "from importlib import reload"
   ]
  },
  {
   "attachments": {},
   "cell_type": "markdown",
   "metadata": {},
   "source": [
    "### check the potential hazard with zero-crossing algorithm"
   ]
  },
  {
   "cell_type": "code",
   "execution_count": 3,
   "metadata": {},
   "outputs": [],
   "source": [
    "# get the lightness difference\n",
    "v = pr.get_lightness_difference('videos/Banned Pokemon Seizure Scene.mp4')"
   ]
  },
  {
   "cell_type": "code",
   "execution_count": 6,
   "metadata": {},
   "outputs": [
    {
     "data": {
      "text/plain": [
       "array([ 0.0032,  0.0252,  0.024 ,  0.0388,  0.0064,  0.01  , -0.0044,\n",
       "       -0.0076, -0.0064,  0.0044])"
      ]
     },
     "execution_count": 6,
     "metadata": {},
     "output_type": "execute_result"
    }
   ],
   "source": [
    "v[:10]"
   ]
  },
  {
   "cell_type": "code",
   "execution_count": 19,
   "metadata": {},
   "outputs": [],
   "source": [
    "v1 = pr.get_lightness_difference1('videos/Banned Pokemon Seizure Scene.mp4')"
   ]
  },
  {
   "cell_type": "code",
   "execution_count": null,
   "metadata": {},
   "outputs": [
    {
     "data": {
      "text/plain": [
       "array([-0.0032, -0.0252, -0.024 , -0.0388, -0.0064, -0.01  ,  0.0044,\n",
       "        0.0076,  0.0064, -0.0044])"
      ]
     },
     "execution_count": 21,
     "metadata": {},
     "output_type": "execute_result"
    }
   ],
   "source": [
    "v1[:10]"
   ]
  },
  {
   "cell_type": "code",
   "execution_count": 35,
   "metadata": {},
   "outputs": [
    {
     "data": {
      "text/plain": [
       "(784, 784)"
      ]
     },
     "execution_count": 35,
     "metadata": {},
     "output_type": "execute_result"
    }
   ],
   "source": [
    "len(v), len(v1) # v1 is the same as v but opposite signs"
   ]
  },
  {
   "cell_type": "code",
   "execution_count": null,
   "metadata": {},
   "outputs": [
    {
     "data": {
      "text/plain": [
       "array([ 1.,  1.,  1.,  1.,  1.,  1., -1., -1., -1.,  1.])"
      ]
     },
     "execution_count": 7,
     "metadata": {},
     "output_type": "execute_result"
    }
   ],
   "source": [
    "np.sign(v)[:10]"
   ]
  },
  {
   "cell_type": "code",
   "execution_count": 37,
   "metadata": {},
   "outputs": [
    {
     "data": {
      "text/plain": [
       "783"
      ]
     },
     "execution_count": 37,
     "metadata": {},
     "output_type": "execute_result"
    }
   ],
   "source": [
    "len(np.diff(np.sign(v))) # one less than original"
   ]
  },
  {
   "cell_type": "code",
   "execution_count": 40,
   "metadata": {},
   "outputs": [
    {
     "data": {
      "text/plain": [
       "array([ 0.,  0.,  0.,  0.,  0., -2.,  0.,  0.,  2.,  0.])"
      ]
     },
     "execution_count": 40,
     "metadata": {},
     "output_type": "execute_result"
    }
   ],
   "source": [
    "# if the next sign is the same the difference is going to be 0, els 2 or - 2\n",
    "np.diff(np.sign(v))[:10]"
   ]
  },
  {
   "cell_type": "code",
   "execution_count": 47,
   "metadata": {},
   "outputs": [
    {
     "data": {
      "text/plain": [
       "array([ 6,  9, 12, 13, 24, 26, 30, 31, 36, 38])"
      ]
     },
     "execution_count": 47,
     "metadata": {},
     "output_type": "execute_result"
    }
   ],
   "source": [
    "# get just indexes where the diff is 2 or -2\n",
    "np.where(np.diff(np.sign(v)))[0][:10] + 1"
   ]
  },
  {
   "cell_type": "code",
   "execution_count": 45,
   "metadata": {},
   "outputs": [
    {
     "data": {
      "text/plain": [
       "array([ 0.0032,  0.0252,  0.024 ,  0.0388,  0.0064,  0.01  , -0.0044,\n",
       "       -0.0076, -0.0064,  0.0044])"
      ]
     },
     "execution_count": 45,
     "metadata": {},
     "output_type": "execute_result"
    }
   ],
   "source": [
    "v[:10]"
   ]
  },
  {
   "cell_type": "code",
   "execution_count": 48,
   "metadata": {},
   "outputs": [],
   "source": [
    "zero_crossings = np.where(np.diff(np.sign(v)))[0] + 1"
   ]
  },
  {
   "cell_type": "code",
   "execution_count": 49,
   "metadata": {},
   "outputs": [
    {
     "data": {
      "text/plain": [
       "array([ 6,  9, 12, 13, 24, 26, 30, 31, 36, 38])"
      ]
     },
     "execution_count": 49,
     "metadata": {},
     "output_type": "execute_result"
    }
   ],
   "source": [
    "zero_crossings[:10]"
   ]
  },
  {
   "cell_type": "code",
   "execution_count": 50,
   "metadata": {},
   "outputs": [],
   "source": [
    "zero_crossings1 = np.where(np.diff(np.sign(v1)))[0] + 1 # +1 to retrun the original index"
   ]
  },
  {
   "cell_type": "code",
   "execution_count": 55,
   "metadata": {},
   "outputs": [
    {
     "data": {
      "text/plain": [
       "422"
      ]
     },
     "execution_count": 55,
     "metadata": {},
     "output_type": "execute_result"
    }
   ],
   "source": [
    "zero_crossings.shape[0]"
   ]
  },
  {
   "cell_type": "code",
   "execution_count": 53,
   "metadata": {},
   "outputs": [
    {
     "data": {
      "text/plain": [
       "422"
      ]
     },
     "execution_count": 53,
     "metadata": {},
     "output_type": "execute_result"
    }
   ],
   "source": [
    "# just double confirm that no matter the sign we get same result and \n",
    "# I can use simplier differencing\n",
    "(zero_crossings1 == zero_crossings).sum()"
   ]
  },
  {
   "cell_type": "code",
   "execution_count": 56,
   "metadata": {},
   "outputs": [
    {
     "data": {
      "text/plain": [
       "True"
      ]
     },
     "execution_count": 56,
     "metadata": {},
     "output_type": "execute_result"
    }
   ],
   "source": [
    "(zero_crossings1 == zero_crossings).sum() == zero_crossings.shape[0]"
   ]
  },
  {
   "attachments": {},
   "cell_type": "markdown",
   "metadata": {},
   "source": [
    "Now we need to check if the lightness difference crosses 0 more than 3 times per second."
   ]
  },
  {
   "cell_type": "code",
   "execution_count": 57,
   "metadata": {},
   "outputs": [],
   "source": [
    "# we have 30 frames per second video\n",
    "# if there is more than 3 consecutive zero crossings in 30 frames window\n",
    "# it is a potential hazard\n",
    "fps = 30"
   ]
  },
  {
   "cell_type": "code",
   "execution_count": 81,
   "metadata": {},
   "outputs": [
    {
     "data": {
      "text/plain": [
       "array([  6,   9,  12,  13,  24,  26,  30,  31,  36,  38,  39,  40,  41,\n",
       "        43,  45,  46,  48,  50,  52,  53,  54,  56,  57,  58,  59,  61,\n",
       "        64,  66,  68,  69,  70,  71,  72,  74,  75,  76,  79,  80,  82,\n",
       "        83,  86,  87,  88,  89,  92,  94,  95,  96,  97,  98,  99, 101,\n",
       "       103, 104, 105, 106, 107, 108, 109, 110, 111, 112, 113, 115, 116,\n",
       "       118, 119, 120, 127, 128, 131, 132, 133, 134, 135, 136, 137, 138,\n",
       "       139, 140, 141, 143, 145, 147, 148, 151, 152, 153, 156, 157, 158,\n",
       "       159, 160, 162, 163, 164, 167, 168, 169, 170, 171, 172, 173, 175,\n",
       "       178, 180, 184, 185, 186, 187, 188, 189, 190, 191, 194, 195, 196,\n",
       "       197, 198, 200, 201, 203, 206, 207, 208, 209, 210, 211, 212, 215,\n",
       "       216, 217, 218, 219, 220, 221, 222, 223, 225, 226, 231, 232, 234,\n",
       "       236, 240, 241, 243, 244, 248, 249, 254, 256, 257, 258, 259, 261,\n",
       "       262, 267, 268, 270, 271, 272, 275, 276, 281, 283, 284, 285, 286,\n",
       "       287, 295, 296, 299, 300, 301, 302, 305, 306, 308, 312, 314, 317,\n",
       "       318, 323, 324, 327, 329, 331, 332, 333, 334, 338, 339, 341, 343,\n",
       "       344, 345, 346, 347, 348, 349, 351, 353, 355, 357, 359, 360, 361,\n",
       "       362, 379, 380, 381, 382, 385, 387, 391, 392, 393, 394, 395, 396,\n",
       "       400, 401, 402, 404, 405, 407, 408, 409, 414, 415, 417, 418, 421,\n",
       "       422, 425, 426, 429, 430, 432, 433, 438, 444, 445, 447, 448, 450,\n",
       "       451, 452, 456, 457, 462, 464, 465, 466, 468, 469, 470, 471, 473,\n",
       "       475, 477, 478, 482, 484, 486, 487, 490, 491, 493, 494, 495, 496,\n",
       "       497, 498, 501, 502, 503, 504, 508, 510, 511, 512, 516, 517, 519,\n",
       "       520, 521, 522, 523, 524, 526, 527, 528, 529, 533, 535, 536, 538,\n",
       "       541, 544, 545, 547, 548, 549, 550, 551, 552, 553, 555, 556, 557,\n",
       "       558, 560, 562, 563, 564, 566, 567, 568, 570, 571, 572, 573, 575,\n",
       "       576, 577, 578, 579, 581, 582, 583, 584, 591, 593, 595, 598, 599,\n",
       "       613, 615, 618, 619, 623, 625, 626, 635, 639, 643, 644, 646, 648,\n",
       "       650, 651, 652, 653, 655, 656, 657, 658, 659, 662, 663, 665, 666,\n",
       "       667, 671, 672, 674, 676, 677, 678, 681, 694, 695, 696, 697, 699,\n",
       "       700, 703, 705, 706, 709, 712, 713, 714, 717, 718, 720, 722, 723,\n",
       "       725, 726, 727, 730, 732, 735, 739, 742, 743, 744, 745, 747, 748,\n",
       "       750, 752, 753, 755, 756, 757, 758, 759, 761, 762, 765, 766, 772,\n",
       "       773, 777, 779, 780, 781])"
      ]
     },
     "execution_count": 81,
     "metadata": {},
     "output_type": "execute_result"
    }
   ],
   "source": [
    "zero_crossings[:-1]"
   ]
  },
  {
   "cell_type": "code",
   "execution_count": 83,
   "metadata": {},
   "outputs": [
    {
     "data": {
      "text/plain": [
       "783"
      ]
     },
     "execution_count": 83,
     "metadata": {},
     "output_type": "execute_result"
    }
   ],
   "source": [
    "zero_crossings[-1]"
   ]
  },
  {
   "cell_type": "code",
   "execution_count": 125,
   "metadata": {},
   "outputs": [],
   "source": [
    "def extract_windows(arr: np.array, \n",
    "                    start: int, end: int, sub_window_size: int):\n",
    "    '''\n",
    "    Creates sliding windows of sub_window_size \n",
    "    '''\n",
    "    \n",
    "    end = end - sub_window_size + 1\n",
    "    sub_windows = (\n",
    "        start +\n",
    "        # expand_dims are used to convert a 1D array to 2D array.\n",
    "        np.expand_dims(np.arange(sub_window_size), 0) +\n",
    "        np.expand_dims(np.arange(end - start), 0).T\n",
    "    )\n",
    "    \n",
    "    # one line function if there is no need for start / end indexes\n",
    "    # return np.lib.stride_tricks.sliding_window_view(arr, window_shape=sub_window_size)\n",
    "    return arr[sub_windows]"
   ]
  },
  {
   "attachments": {},
   "cell_type": "markdown",
   "metadata": {},
   "source": [
    "test `extract_windows` function"
   ]
  },
  {
   "cell_type": "code",
   "execution_count": 126,
   "metadata": {},
   "outputs": [
    {
     "data": {
      "text/plain": [
       "array([[ 54,  56,  57, ...,  96,  97,  98],\n",
       "       [ 56,  57,  58, ...,  97,  98,  99],\n",
       "       [ 57,  58,  59, ...,  98,  99, 101],\n",
       "       ...,\n",
       "       [725, 726, 727, ..., 777, 779, 780],\n",
       "       [726, 727, 730, ..., 779, 780, 781],\n",
       "       [727, 730, 732, ..., 780, 781, 783]])"
      ]
     },
     "execution_count": 126,
     "metadata": {},
     "output_type": "execute_result"
    }
   ],
   "source": [
    "extract_windows(zero_crossings, 20, len(zero_crossings), 30)"
   ]
  },
  {
   "cell_type": "code",
   "execution_count": 127,
   "metadata": {},
   "outputs": [
    {
     "data": {
      "text/plain": [
       "54"
      ]
     },
     "execution_count": 127,
     "metadata": {},
     "output_type": "execute_result"
    }
   ],
   "source": [
    "zero_crossings[20]"
   ]
  },
  {
   "cell_type": "code",
   "execution_count": 76,
   "metadata": {},
   "outputs": [],
   "source": [
    "X = np.arange(30)"
   ]
  },
  {
   "cell_type": "code",
   "execution_count": 98,
   "metadata": {},
   "outputs": [
    {
     "data": {
      "text/plain": [
       "array([ 0,  1,  2,  3,  4,  5,  6,  7,  8,  9, 10, 11, 12, 13, 14, 15, 16,\n",
       "       17, 18, 19, 20, 21, 22, 23, 24, 25, 26, 27, 28, 29])"
      ]
     },
     "execution_count": 98,
     "metadata": {},
     "output_type": "execute_result"
    }
   ],
   "source": [
    "X"
   ]
  },
  {
   "cell_type": "code",
   "execution_count": 108,
   "metadata": {},
   "outputs": [
    {
     "data": {
      "text/plain": [
       "array([[ 0,  1,  2,  3,  4],\n",
       "       [ 1,  2,  3,  4,  5],\n",
       "       [ 2,  3,  4,  5,  6],\n",
       "       [ 3,  4,  5,  6,  7],\n",
       "       [ 4,  5,  6,  7,  8],\n",
       "       [ 5,  6,  7,  8,  9],\n",
       "       [ 6,  7,  8,  9, 10],\n",
       "       [ 7,  8,  9, 10, 11],\n",
       "       [ 8,  9, 10, 11, 12],\n",
       "       [ 9, 10, 11, 12, 13],\n",
       "       [10, 11, 12, 13, 14],\n",
       "       [11, 12, 13, 14, 15],\n",
       "       [12, 13, 14, 15, 16],\n",
       "       [13, 14, 15, 16, 17],\n",
       "       [14, 15, 16, 17, 18],\n",
       "       [15, 16, 17, 18, 19],\n",
       "       [16, 17, 18, 19, 20],\n",
       "       [17, 18, 19, 20, 21],\n",
       "       [18, 19, 20, 21, 22],\n",
       "       [19, 20, 21, 22, 23],\n",
       "       [20, 21, 22, 23, 24],\n",
       "       [21, 22, 23, 24, 25],\n",
       "       [22, 23, 24, 25, 26],\n",
       "       [23, 24, 25, 26, 27],\n",
       "       [24, 25, 26, 27, 28],\n",
       "       [25, 26, 27, 28, 29]])"
      ]
     },
     "execution_count": 108,
     "metadata": {},
     "output_type": "execute_result"
    }
   ],
   "source": [
    "extract_windows(X, 3, len(X), 5)"
   ]
  },
  {
   "cell_type": "code",
   "execution_count": 115,
   "metadata": {},
   "outputs": [],
   "source": [
    "sw = 0 + np.expand_dims(np.arange(5), 0) + np.expand_dims(np.arange(len(X) - 5 +1), 0).T"
   ]
  },
  {
   "cell_type": "code",
   "execution_count": 124,
   "metadata": {},
   "outputs": [
    {
     "data": {
      "text/plain": [
       "array([[ 3,  4,  5,  6,  7],\n",
       "       [ 4,  5,  6,  7,  8],\n",
       "       [ 5,  6,  7,  8,  9],\n",
       "       [ 6,  7,  8,  9, 10],\n",
       "       [ 7,  8,  9, 10, 11],\n",
       "       [ 8,  9, 10, 11, 12],\n",
       "       [ 9, 10, 11, 12, 13],\n",
       "       [10, 11, 12, 13, 14],\n",
       "       [11, 12, 13, 14, 15],\n",
       "       [12, 13, 14, 15, 16],\n",
       "       [13, 14, 15, 16, 17],\n",
       "       [14, 15, 16, 17, 18],\n",
       "       [15, 16, 17, 18, 19],\n",
       "       [16, 17, 18, 19, 20],\n",
       "       [17, 18, 19, 20, 21],\n",
       "       [18, 19, 20, 21, 22],\n",
       "       [19, 20, 21, 22, 23],\n",
       "       [20, 21, 22, 23, 24],\n",
       "       [21, 22, 23, 24, 25],\n",
       "       [22, 23, 24, 25, 26],\n",
       "       [23, 24, 25, 26, 27],\n",
       "       [24, 25, 26, 27, 28],\n",
       "       [25, 26, 27, 28, 29],\n",
       "       [26, 27, 28, 29, 30],\n",
       "       [27, 28, 29, 30, 31],\n",
       "       [28, 29, 30, 31, 32]])"
      ]
     },
     "execution_count": 124,
     "metadata": {},
     "output_type": "execute_result"
    }
   ],
   "source": [
    "np.expand_dims(np.arange(5), 0) + np.expand_dims(np.arange(len(X) - 5 +1), 0).T"
   ]
  },
  {
   "cell_type": "code",
   "execution_count": 185,
   "metadata": {},
   "outputs": [],
   "source": [
    "sw = extract_windows(zero_crossings, 0, len(zero_crossings), fps)"
   ]
  },
  {
   "cell_type": "code",
   "execution_count": 186,
   "metadata": {},
   "outputs": [
    {
     "data": {
      "text/plain": [
       "array([[  6,   9,  12, ...,  66,  68,  69],\n",
       "       [  9,  12,  13, ...,  68,  69,  70],\n",
       "       [ 12,  13,  24, ...,  69,  70,  71],\n",
       "       ...,\n",
       "       [725, 726, 727, ..., 777, 779, 780],\n",
       "       [726, 727, 730, ..., 779, 780, 781],\n",
       "       [727, 730, 732, ..., 780, 781, 783]])"
      ]
     },
     "execution_count": 186,
     "metadata": {},
     "output_type": "execute_result"
    }
   ],
   "source": [
    "sw"
   ]
  },
  {
   "cell_type": "code",
   "execution_count": 130,
   "metadata": {},
   "outputs": [
    {
     "data": {
      "text/plain": [
       "393"
      ]
     },
     "execution_count": 130,
     "metadata": {},
     "output_type": "execute_result"
    }
   ],
   "source": [
    "len(sw)"
   ]
  },
  {
   "cell_type": "code",
   "execution_count": 171,
   "metadata": {},
   "outputs": [
    {
     "data": {
      "text/plain": [
       "(393, 30)"
      ]
     },
     "execution_count": 171,
     "metadata": {},
     "output_type": "execute_result"
    }
   ],
   "source": [
    "sw.shape"
   ]
  },
  {
   "cell_type": "code",
   "execution_count": 217,
   "metadata": {},
   "outputs": [
    {
     "data": {
      "text/plain": [
       "array([4, 6])"
      ]
     },
     "execution_count": 217,
     "metadata": {},
     "output_type": "execute_result"
    }
   ],
   "source": [
    "np.array([1, 2]) + np.array([3, 4])"
   ]
  },
  {
   "cell_type": "code",
   "execution_count": 227,
   "metadata": {},
   "outputs": [
    {
     "name": "stdout",
     "output_type": "stream",
     "text": [
      "[ 38  39  52 ... 756 757 779]\n"
     ]
    }
   ],
   "source": [
    "inds = np.array([], dtype='int')\n",
    "for s in sw:\n",
    "    # for every slide in sliding windows of size FPS\n",
    "    # create sliding windows of size 3\n",
    "    windows = np.lib.stride_tricks.sliding_window_view(s, \\\n",
    "                                window_shape=3)\n",
    "    #print(windows.shape)\n",
    "    # check which windows have 3 consectutive numbers \n",
    "    cond = np.all(np.diff(windows, axis=1) == 1, axis = 1)\n",
    "    #print(cond.shape)\n",
    "    # return list of seconds in video that are hazard\n",
    "    inds = np.append(inds, windows[cond][:, 0])\n",
    "print(inds)"
   ]
  },
  {
   "cell_type": "code",
   "execution_count": 234,
   "metadata": {},
   "outputs": [
    {
     "data": {
      "text/plain": [
       "array([ 38,  39,  52,  56,  57,  68,  69,  70,  74,  86,  87,  94,  95,\n",
       "        96,  97, 103, 104, 105, 106, 107, 108, 109, 110, 111, 118, 131,\n",
       "       132, 133, 134, 135, 136, 137, 138, 139, 151, 156, 157, 158, 162,\n",
       "       167, 168, 169, 170, 171, 184, 185, 186, 187, 188, 189, 194, 195,\n",
       "       196, 206, 207, 208, 209, 210, 215, 216, 217, 218, 219, 220, 221,\n",
       "       256, 257, 270, 283, 284, 285, 299, 300, 331, 332, 343, 344, 345,\n",
       "       346, 347, 359, 360, 379, 380, 391, 392, 393, 394, 400, 407, 450,\n",
       "       464, 468, 469, 493, 494, 495, 496, 501, 502, 510, 519, 520, 521,\n",
       "       522, 526, 527, 547, 548, 549, 550, 551, 555, 556, 562, 566, 570,\n",
       "       571, 575, 576, 577, 581, 582, 650, 651, 655, 656, 657, 665, 676,\n",
       "       694, 695, 712, 725, 742, 743, 755, 756, 757, 779])"
      ]
     },
     "execution_count": 234,
     "metadata": {},
     "output_type": "execute_result"
    }
   ],
   "source": [
    "np.unique(inds)"
   ]
  },
  {
   "cell_type": "code",
   "execution_count": 193,
   "metadata": {},
   "outputs": [
    {
     "data": {
      "text/plain": [
       "((393, 30), (393, 28))"
      ]
     },
     "execution_count": 193,
     "metadata": {},
     "output_type": "execute_result"
    }
   ],
   "source": [
    "sw.shape, np.array(cond).shape"
   ]
  },
  {
   "cell_type": "code",
   "execution_count": 235,
   "metadata": {},
   "outputs": [],
   "source": [
    "def find_hazard_crossings(sliding_windows: np.array, consecutive_numbers=3, fps=30):\n",
    "    '''\n",
    "    Find if there are (3) consecutive numbers of frames in zero_crossing array.\n",
    "    Parameters:\n",
    "    sliding_windows: 2D numpy array of sliding windows of FPS (frames per second) size\n",
    "    consecutive_numbers: how many consecutive numbers we have to check. \n",
    "    Default is 3. 3 consecutive flashes per second are dangerous\n",
    "    Returns:\n",
    "    list of indexes that start flashes\n",
    "    '''\n",
    "    frame_numbers = np.array([], dtype='int')\n",
    "    for sw in sliding_windows:\n",
    "        # for every slide in sliding windows of size FPS\n",
    "        # create sliding windows of size 3\n",
    "        windows = np.lib.stride_tricks.sliding_window_view(sw, \\\n",
    "                                    window_shape=consecutive_numbers)\n",
    "        # check which windows have 3 consectutive numbers \n",
    "        cond = np.all(np.diff(windows, axis=1) == 1, axis = 1)\n",
    "        frame_numbers = np.append(frame_numbers, windows[cond][:, 0])\n",
    "        # return list of seconds in video that are hazard\n",
    "    return np.unique(frame_numbers)"
   ]
  },
  {
   "cell_type": "code",
   "execution_count": 236,
   "metadata": {},
   "outputs": [
    {
     "data": {
      "text/plain": [
       "array([ 38,  39,  52,  56,  57,  68,  69,  70,  74,  86,  87,  94,  95,\n",
       "        96,  97, 103, 104, 105, 106, 107, 108, 109, 110, 111, 118, 131,\n",
       "       132, 133, 134, 135, 136, 137, 138, 139, 151, 156, 157, 158, 162,\n",
       "       167, 168, 169, 170, 171, 184, 185, 186, 187, 188, 189, 194, 195,\n",
       "       196, 206, 207, 208, 209, 210, 215, 216, 217, 218, 219, 220, 221,\n",
       "       256, 257, 270, 283, 284, 285, 299, 300, 331, 332, 343, 344, 345,\n",
       "       346, 347, 359, 360, 379, 380, 391, 392, 393, 394, 400, 407, 450,\n",
       "       464, 468, 469, 493, 494, 495, 496, 501, 502, 510, 519, 520, 521,\n",
       "       522, 526, 527, 547, 548, 549, 550, 551, 555, 556, 562, 566, 570,\n",
       "       571, 575, 576, 577, 581, 582, 650, 651, 655, 656, 657, 665, 676,\n",
       "       694, 695, 712, 725, 742, 743, 755, 756, 757, 779])"
      ]
     },
     "execution_count": 236,
     "metadata": {},
     "output_type": "execute_result"
    }
   ],
   "source": [
    "find_hazard_crossings(sw)"
   ]
  },
  {
   "cell_type": "code",
   "execution_count": 198,
   "metadata": {},
   "outputs": [],
   "source": [
    "test_arr = [1, 3, 4, 5, 8, 9, 20, 21, 22]"
   ]
  },
  {
   "cell_type": "code",
   "execution_count": 199,
   "metadata": {},
   "outputs": [],
   "source": [
    "windows = np.lib.stride_tricks.sliding_window_view(test_arr, window_shape=3)"
   ]
  },
  {
   "cell_type": "code",
   "execution_count": 200,
   "metadata": {},
   "outputs": [
    {
     "data": {
      "text/plain": [
       "array([[ 1,  3,  4],\n",
       "       [ 3,  4,  5],\n",
       "       [ 4,  5,  8],\n",
       "       [ 5,  8,  9],\n",
       "       [ 8,  9, 20],\n",
       "       [ 9, 20, 21],\n",
       "       [20, 21, 22]])"
      ]
     },
     "execution_count": 200,
     "metadata": {},
     "output_type": "execute_result"
    }
   ],
   "source": [
    "windows"
   ]
  },
  {
   "cell_type": "code",
   "execution_count": 201,
   "metadata": {},
   "outputs": [
    {
     "data": {
      "text/plain": [
       "array([[ 2,  1],\n",
       "       [ 1,  1],\n",
       "       [ 1,  3],\n",
       "       [ 3,  1],\n",
       "       [ 1, 11],\n",
       "       [11,  1],\n",
       "       [ 1,  1]])"
      ]
     },
     "execution_count": 201,
     "metadata": {},
     "output_type": "execute_result"
    }
   ],
   "source": [
    "np.diff(windows, axis=1)"
   ]
  },
  {
   "cell_type": "code",
   "execution_count": 202,
   "metadata": {},
   "outputs": [
    {
     "data": {
      "text/plain": [
       "array([[False,  True],\n",
       "       [ True,  True],\n",
       "       [ True, False],\n",
       "       [False,  True],\n",
       "       [ True, False],\n",
       "       [False,  True],\n",
       "       [ True,  True]])"
      ]
     },
     "execution_count": 202,
     "metadata": {},
     "output_type": "execute_result"
    }
   ],
   "source": [
    "np.diff(windows, axis=1) == 1"
   ]
  },
  {
   "cell_type": "code",
   "execution_count": 203,
   "metadata": {},
   "outputs": [
    {
     "data": {
      "text/plain": [
       "array([False, False])"
      ]
     },
     "execution_count": 203,
     "metadata": {},
     "output_type": "execute_result"
    }
   ],
   "source": [
    "# axis = 0 returns [False, False]\n",
    "np.all(np.diff(windows, axis=1) == 1, axis = 0)"
   ]
  },
  {
   "cell_type": "code",
   "execution_count": 161,
   "metadata": {},
   "outputs": [],
   "source": [
    "a = np.all(np.diff(windows, axis=1) == 1, axis = 1)"
   ]
  },
  {
   "cell_type": "code",
   "execution_count": 162,
   "metadata": {},
   "outputs": [
    {
     "data": {
      "text/plain": [
       "array([False,  True, False, False, False, False,  True])"
      ]
     },
     "execution_count": 162,
     "metadata": {},
     "output_type": "execute_result"
    }
   ],
   "source": [
    "a "
   ]
  },
  {
   "cell_type": "code",
   "execution_count": 163,
   "metadata": {},
   "outputs": [
    {
     "data": {
      "text/plain": [
       "array([[ 3,  4,  5],\n",
       "       [20, 21, 22]])"
      ]
     },
     "execution_count": 163,
     "metadata": {},
     "output_type": "execute_result"
    }
   ],
   "source": [
    "windows[a]"
   ]
  },
  {
   "cell_type": "code",
   "execution_count": 170,
   "metadata": {},
   "outputs": [
    {
     "data": {
      "text/plain": [
       "array([ 3, 20])"
      ]
     },
     "execution_count": 170,
     "metadata": {},
     "output_type": "execute_result"
    }
   ],
   "source": [
    "# get the numbers that starts 3 consecutive numbers\n",
    "windows[a][:, 0]"
   ]
  },
  {
   "cell_type": "code",
   "execution_count": 175,
   "metadata": {},
   "outputs": [
    {
     "data": {
      "text/plain": [
       "array([1, 6])"
      ]
     },
     "execution_count": 175,
     "metadata": {},
     "output_type": "execute_result"
    }
   ],
   "source": [
    "(windows[a][:, 0] /3).astype(int)"
   ]
  },
  {
   "cell_type": "code",
   "execution_count": null,
   "metadata": {},
   "outputs": [],
   "source": []
  }
 ],
 "metadata": {
  "kernelspec": {
   "display_name": "epilator",
   "language": "python",
   "name": "python3"
  },
  "language_info": {
   "codemirror_mode": {
    "name": "ipython",
    "version": 3
   },
   "file_extension": ".py",
   "mimetype": "text/x-python",
   "name": "python",
   "nbconvert_exporter": "python",
   "pygments_lexer": "ipython3",
   "version": "3.11.0"
  },
  "orig_nbformat": 4
 },
 "nbformat": 4,
 "nbformat_minor": 2
}
