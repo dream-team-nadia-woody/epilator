{
 "cells": [
  {
   "cell_type": "code",
   "execution_count": 1,
   "metadata": {},
   "outputs": [],
   "source": [
    "import pandas as pd\n",
    "import numpy as np\n",
    "import video.df as df\n",
    "from video import vid\n",
    "\n"
   ]
  },
  {
   "cell_type": "code",
   "execution_count": 2,
   "metadata": {},
   "outputs": [],
   "source": [
    "path = 'videos/Red Spin.mp4'\n",
    "vid = vid.Video.from_file(path)\n",
    "vid_df = df.get_vid_df(path)"
   ]
  },
  {
   "cell_type": "code",
   "execution_count": 8,
   "metadata": {},
   "outputs": [],
   "source": [
    "#vid.difference(1, 'lightness')"
   ]
  },
  {
   "cell_type": "code",
   "execution_count": 10,
   "metadata": {},
   "outputs": [
    {
     "data": {
      "text/html": [
       "<div>\n",
       "<style scoped>\n",
       "    .dataframe tbody tr th:only-of-type {\n",
       "        vertical-align: middle;\n",
       "    }\n",
       "\n",
       "    .dataframe tbody tr th {\n",
       "        vertical-align: top;\n",
       "    }\n",
       "\n",
       "    .dataframe thead th {\n",
       "        text-align: right;\n",
       "    }\n",
       "</style>\n",
       "<table border=\"1\" class=\"dataframe\">\n",
       "  <thead>\n",
       "    <tr style=\"text-align: right;\">\n",
       "      <th></th>\n",
       "      <th></th>\n",
       "      <th></th>\n",
       "      <th>hue</th>\n",
       "      <th>lightness</th>\n",
       "      <th>saturation</th>\n",
       "    </tr>\n",
       "    <tr>\n",
       "      <th>frame</th>\n",
       "      <th>y</th>\n",
       "      <th>x</th>\n",
       "      <th></th>\n",
       "      <th></th>\n",
       "      <th></th>\n",
       "    </tr>\n",
       "  </thead>\n",
       "  <tbody>\n",
       "    <tr>\n",
       "      <th rowspan=\"5\" valign=\"top\">0</th>\n",
       "      <th rowspan=\"5\" valign=\"top\">0</th>\n",
       "      <th>0</th>\n",
       "      <td>0</td>\n",
       "      <td>126</td>\n",
       "      <td>255</td>\n",
       "    </tr>\n",
       "    <tr>\n",
       "      <th>1</th>\n",
       "      <td>0</td>\n",
       "      <td>126</td>\n",
       "      <td>255</td>\n",
       "    </tr>\n",
       "    <tr>\n",
       "      <th>2</th>\n",
       "      <td>0</td>\n",
       "      <td>126</td>\n",
       "      <td>255</td>\n",
       "    </tr>\n",
       "    <tr>\n",
       "      <th>3</th>\n",
       "      <td>0</td>\n",
       "      <td>126</td>\n",
       "      <td>255</td>\n",
       "    </tr>\n",
       "    <tr>\n",
       "      <th>4</th>\n",
       "      <td>0</td>\n",
       "      <td>126</td>\n",
       "      <td>255</td>\n",
       "    </tr>\n",
       "  </tbody>\n",
       "</table>\n",
       "</div>"
      ],
      "text/plain": [
       "           hue  lightness  saturation\n",
       "frame y x                            \n",
       "0     0 0    0        126         255\n",
       "        1    0        126         255\n",
       "        2    0        126         255\n",
       "        3    0        126         255\n",
       "        4    0        126         255"
      ]
     },
     "execution_count": 10,
     "metadata": {},
     "output_type": "execute_result"
    }
   ],
   "source": [
    "vid_df.head()"
   ]
  },
  {
   "cell_type": "code",
   "execution_count": 3,
   "metadata": {},
   "outputs": [],
   "source": [
    "edf = df.get_exploration_df(path)"
   ]
  },
  {
   "cell_type": "code",
   "execution_count": 4,
   "metadata": {},
   "outputs": [],
   "source": [
    "agg_df = df.get_aggregated_df(edf)"
   ]
  },
  {
   "cell_type": "code",
   "execution_count": 64,
   "metadata": {},
   "outputs": [
    {
     "data": {
      "text/html": [
       "<div>\n",
       "<style scoped>\n",
       "    .dataframe tbody tr th:only-of-type {\n",
       "        vertical-align: middle;\n",
       "    }\n",
       "\n",
       "    .dataframe tbody tr th {\n",
       "        vertical-align: top;\n",
       "    }\n",
       "\n",
       "    .dataframe thead th {\n",
       "        text-align: right;\n",
       "    }\n",
       "</style>\n",
       "<table border=\"1\" class=\"dataframe\">\n",
       "  <thead>\n",
       "    <tr style=\"text-align: right;\">\n",
       "      <th></th>\n",
       "      <th></th>\n",
       "      <th></th>\n",
       "      <th>hue</th>\n",
       "      <th>lightness</th>\n",
       "      <th>saturation</th>\n",
       "      <th>masked_values</th>\n",
       "      <th>seconds</th>\n",
       "    </tr>\n",
       "    <tr>\n",
       "      <th>frame</th>\n",
       "      <th>y</th>\n",
       "      <th>x</th>\n",
       "      <th></th>\n",
       "      <th></th>\n",
       "      <th></th>\n",
       "      <th></th>\n",
       "      <th></th>\n",
       "    </tr>\n",
       "  </thead>\n",
       "  <tbody>\n",
       "    <tr>\n",
       "      <th rowspan=\"2\" valign=\"top\">0</th>\n",
       "      <th rowspan=\"2\" valign=\"top\">0</th>\n",
       "      <th>0</th>\n",
       "      <td>0</td>\n",
       "      <td>126</td>\n",
       "      <td>255</td>\n",
       "      <td>0</td>\n",
       "      <td>0</td>\n",
       "    </tr>\n",
       "    <tr>\n",
       "      <th>1</th>\n",
       "      <td>0</td>\n",
       "      <td>126</td>\n",
       "      <td>255</td>\n",
       "      <td>0</td>\n",
       "      <td>0</td>\n",
       "    </tr>\n",
       "  </tbody>\n",
       "</table>\n",
       "</div>"
      ],
      "text/plain": [
       "           hue  lightness  saturation  masked_values  seconds\n",
       "frame y x                                                    \n",
       "0     0 0    0        126         255              0        0\n",
       "        1    0        126         255              0        0"
      ]
     },
     "execution_count": 64,
     "metadata": {},
     "output_type": "execute_result"
    }
   ],
   "source": [
    "edf.head(2)"
   ]
  },
  {
   "cell_type": "code",
   "execution_count": 65,
   "metadata": {},
   "outputs": [
    {
     "data": {
      "text/html": [
       "<div>\n",
       "<style scoped>\n",
       "    .dataframe tbody tr th:only-of-type {\n",
       "        vertical-align: middle;\n",
       "    }\n",
       "\n",
       "    .dataframe tbody tr th {\n",
       "        vertical-align: top;\n",
       "    }\n",
       "\n",
       "    .dataframe thead th {\n",
       "        text-align: right;\n",
       "    }\n",
       "</style>\n",
       "<table border=\"1\" class=\"dataframe\">\n",
       "  <thead>\n",
       "    <tr style=\"text-align: right;\">\n",
       "      <th></th>\n",
       "      <th>lightness</th>\n",
       "      <th>hue</th>\n",
       "      <th>saturation</th>\n",
       "      <th>masked_values</th>\n",
       "      <th>light_diff</th>\n",
       "      <th>hue_diff</th>\n",
       "      <th>saturation_diff</th>\n",
       "      <th>mask_diff</th>\n",
       "    </tr>\n",
       "    <tr>\n",
       "      <th>frame</th>\n",
       "      <th></th>\n",
       "      <th></th>\n",
       "      <th></th>\n",
       "      <th></th>\n",
       "      <th></th>\n",
       "      <th></th>\n",
       "      <th></th>\n",
       "      <th></th>\n",
       "    </tr>\n",
       "  </thead>\n",
       "  <tbody>\n",
       "    <tr>\n",
       "      <th>0</th>\n",
       "      <td>33.5124</td>\n",
       "      <td>0.1416</td>\n",
       "      <td>67.1892</td>\n",
       "      <td>0</td>\n",
       "      <td>NaN</td>\n",
       "      <td>NaN</td>\n",
       "      <td>NaN</td>\n",
       "      <td>NaN</td>\n",
       "    </tr>\n",
       "    <tr>\n",
       "      <th>1</th>\n",
       "      <td>32.5144</td>\n",
       "      <td>0.0004</td>\n",
       "      <td>65.4256</td>\n",
       "      <td>0</td>\n",
       "      <td>0.998</td>\n",
       "      <td>0.1412</td>\n",
       "      <td>1.7636</td>\n",
       "      <td>0.0</td>\n",
       "    </tr>\n",
       "  </tbody>\n",
       "</table>\n",
       "</div>"
      ],
      "text/plain": [
       "       lightness     hue  saturation  masked_values  light_diff  hue_diff  \\\n",
       "frame                                                                       \n",
       "0        33.5124  0.1416     67.1892              0         NaN       NaN   \n",
       "1        32.5144  0.0004     65.4256              0       0.998    0.1412   \n",
       "\n",
       "       saturation_diff  mask_diff  \n",
       "frame                              \n",
       "0                  NaN        NaN  \n",
       "1               1.7636        0.0  "
      ]
     },
     "execution_count": 65,
     "metadata": {},
     "output_type": "execute_result"
    }
   ],
   "source": [
    "agg_df.head(2)"
   ]
  },
  {
   "cell_type": "code",
   "execution_count": 66,
   "metadata": {},
   "outputs": [
    {
     "data": {
      "text/plain": [
       "((750000, 5), (300, 8))"
      ]
     },
     "execution_count": 66,
     "metadata": {},
     "output_type": "execute_result"
    }
   ],
   "source": [
    "edf.shape, agg_df.shape"
   ]
  },
  {
   "cell_type": "code",
   "execution_count": 5,
   "metadata": {},
   "outputs": [
    {
     "name": "stdout",
     "output_type": "stream",
     "text": [
      "['hazard.01.mp4', 'hazard.02.mp4', 'safe.04.mp4', 'hazard.03.mp4', 'safe.01.mp4', 'hazard.07.mp4', 'hazard.06.mp4', 'data_list.pkl', 'safe.02.mp4', 'hazard.10.mp4', 'hazard.04.mp4', 'hazard.05.mp4', 'safe.03.mp4', 'hidden.05.mp4', 'hazard.08.mp4', 'hazard.09.mp4', 'hidden.04.mp4', 'hidden.06.mp4', 'hidden.03.mp4', 'hidden.02.mp4', 'data.pkl', 'hidden.01.mp4']\n"
     ]
    }
   ],
   "source": [
    "import os\n",
    "\n",
    "# specify the directory path\n",
    "directory_path = \"videos1\"\n",
    "\n",
    "# get the list of filenames in the directory\n",
    "filenames = [f for f in os.listdir(directory_path) if os.path.isfile(os.path.join(directory_path, f))]\n",
    "\n",
    "# print the list of filenames\n",
    "print(filenames)\n"
   ]
  },
  {
   "cell_type": "code",
   "execution_count": 6,
   "metadata": {},
   "outputs": [
    {
     "name": "stdout",
     "output_type": "stream",
     "text": [
      "['hazard.01.mp4', 'hazard.02.mp4', 'safe.04.mp4', 'hazard.03.mp4', 'safe.01.mp4', 'hazard.07.mp4', 'hazard.06.mp4', 'data_list.pkl', 'safe.02.mp4', 'hazard.10.mp4', 'hazard.04.mp4', 'hazard.05.mp4', 'safe.03.mp4', 'hidden.05.mp4', 'hazard.08.mp4', 'hazard.09.mp4', 'hidden.04.mp4', 'hidden.06.mp4', 'hidden.03.mp4', 'hidden.02.mp4', 'data.pkl', 'hidden.01.mp4']\n"
     ]
    }
   ],
   "source": [
    "# get the list of filenames in the directory\n",
    "filenames1 = os.listdir(directory_path)\n",
    "\n",
    "# print the list of filenames\n",
    "print(filenames1)"
   ]
  },
  {
   "cell_type": "code",
   "execution_count": 7,
   "metadata": {},
   "outputs": [],
   "source": [
    "import video.reader as r\n",
    "import cv2 as cv\n",
    "from video.reader import VideoReader"
   ]
  },
  {
   "cell_type": "code",
   "execution_count": 8,
   "metadata": {},
   "outputs": [],
   "source": [
    "vid, fps = r.VideoReader.get_vid(path, cv.COLOR_BGR2HLS)"
   ]
  },
  {
   "cell_type": "code",
   "execution_count": 30,
   "metadata": {},
   "outputs": [
    {
     "data": {
      "text/plain": [
       "(300, 50, 50, 3)"
      ]
     },
     "execution_count": 30,
     "metadata": {},
     "output_type": "execute_result"
    }
   ],
   "source": [
    "vid.shape"
   ]
  },
  {
   "cell_type": "code",
   "execution_count": 40,
   "metadata": {},
   "outputs": [
    {
     "data": {
      "text/plain": [
       "array([  0, 126, 255], dtype=uint8)"
      ]
     },
     "execution_count": 40,
     "metadata": {},
     "output_type": "execute_result"
    }
   ],
   "source": [
    "vid[0][0][1]"
   ]
  },
  {
   "cell_type": "code",
   "execution_count": 55,
   "metadata": {},
   "outputs": [
    {
     "data": {
      "text/plain": [
       "(750000, 3)"
      ]
     },
     "execution_count": 55,
     "metadata": {},
     "output_type": "execute_result"
    }
   ],
   "source": [
    "vid.reshape(-1,3).shape"
   ]
  },
  {
   "cell_type": "code",
   "execution_count": 72,
   "metadata": {},
   "outputs": [],
   "source": [
    "lightness_per_frame = vid.reshape(-1, 3)[:, 1].reshape((-1, 50*50))"
   ]
  },
  {
   "cell_type": "code",
   "execution_count": 73,
   "metadata": {},
   "outputs": [],
   "source": [
    "av_lightness_per_frame = np.mean(lightness_per_frame,axis=1)"
   ]
  },
  {
   "cell_type": "code",
   "execution_count": 74,
   "metadata": {},
   "outputs": [
    {
     "data": {
      "text/plain": [
       "(300,)"
      ]
     },
     "execution_count": 74,
     "metadata": {},
     "output_type": "execute_result"
    }
   ],
   "source": [
    "av_lightness_per_frame.shape"
   ]
  },
  {
   "cell_type": "code",
   "execution_count": 76,
   "metadata": {},
   "outputs": [
    {
     "data": {
      "text/plain": [
       "array([33.5124, 32.5144, 31.4948, 32.4748, 33.5124])"
      ]
     },
     "execution_count": 76,
     "metadata": {},
     "output_type": "execute_result"
    }
   ],
   "source": [
    "av_lightness_per_frame[:5]"
   ]
  },
  {
   "cell_type": "code",
   "execution_count": 78,
   "metadata": {},
   "outputs": [
    {
     "data": {
      "text/plain": [
       "frame\n",
       "0    33.5124\n",
       "1    32.5144\n",
       "2    31.4948\n",
       "3    32.4748\n",
       "4    33.5124\n",
       "Name: lightness, dtype: float64"
      ]
     },
     "execution_count": 78,
     "metadata": {},
     "output_type": "execute_result"
    }
   ],
   "source": [
    "agg_df.lightness[:5]"
   ]
  },
  {
   "cell_type": "code",
   "execution_count": 121,
   "metadata": {},
   "outputs": [],
   "source": [
    "shifed_lightness = np.concatenate([np.zeros(1), av_lightness_per_frame[:-1]])"
   ]
  },
  {
   "cell_type": "code",
   "execution_count": 113,
   "metadata": {},
   "outputs": [],
   "source": [
    "shifed_lightness[0] = np.nan"
   ]
  },
  {
   "cell_type": "code",
   "execution_count": 107,
   "metadata": {},
   "outputs": [
    {
     "data": {
      "text/plain": [
       "frame\n",
       "0        NaN\n",
       "1    33.5124\n",
       "2    32.5144\n",
       "3    31.4948\n",
       "4    32.4748\n",
       "Name: lightness, dtype: float64"
      ]
     },
     "execution_count": 107,
     "metadata": {},
     "output_type": "execute_result"
    }
   ],
   "source": [
    "agg_df.lightness.shift(1)[:5]"
   ]
  },
  {
   "cell_type": "code",
   "execution_count": 114,
   "metadata": {},
   "outputs": [
    {
     "data": {
      "text/plain": [
       "array([    nan, 33.5124, 32.5144, 31.4948, 32.4748])"
      ]
     },
     "execution_count": 114,
     "metadata": {},
     "output_type": "execute_result"
    }
   ],
   "source": [
    "shifed_lightness[:5]"
   ]
  },
  {
   "cell_type": "code",
   "execution_count": 122,
   "metadata": {},
   "outputs": [],
   "source": [
    "diff_lightness = shifed_lightness - av_lightness_per_frame"
   ]
  },
  {
   "cell_type": "code",
   "execution_count": 123,
   "metadata": {},
   "outputs": [
    {
     "data": {
      "text/plain": [
       "array([-33.5124,   0.998 ,   1.0196,  -0.98  ,  -1.0376])"
      ]
     },
     "execution_count": 123,
     "metadata": {},
     "output_type": "execute_result"
    }
   ],
   "source": [
    "diff_lightness[:5]"
   ]
  },
  {
   "cell_type": "code",
   "execution_count": 118,
   "metadata": {},
   "outputs": [
    {
     "data": {
      "text/plain": [
       "frame\n",
       "0       NaN\n",
       "1    0.9980\n",
       "2    1.0196\n",
       "3   -0.9800\n",
       "4   -1.0376\n",
       "Name: light_diff, dtype: float64"
      ]
     },
     "execution_count": 118,
     "metadata": {},
     "output_type": "execute_result"
    }
   ],
   "source": [
    "agg_df.light_diff[:5]"
   ]
  },
  {
   "cell_type": "code",
   "execution_count": 119,
   "metadata": {},
   "outputs": [
    {
     "data": {
      "text/plain": [
       "(300, 50, 50, 3)"
      ]
     },
     "execution_count": 119,
     "metadata": {},
     "output_type": "execute_result"
    }
   ],
   "source": [
    "vid.shape"
   ]
  },
  {
   "cell_type": "code",
   "execution_count": 120,
   "metadata": {},
   "outputs": [
    {
     "data": {
      "text/plain": [
       "(300, 2500)"
      ]
     },
     "execution_count": 120,
     "metadata": {},
     "output_type": "execute_result"
    }
   ],
   "source": [
    "lightness_per_frame.shape"
   ]
  },
  {
   "cell_type": "code",
   "execution_count": 9,
   "metadata": {},
   "outputs": [],
   "source": [
    "from typing import List, Union\n",
    "from numpy.typing import ArrayLike"
   ]
  },
  {
   "cell_type": "code",
   "execution_count": 10,
   "metadata": {},
   "outputs": [],
   "source": [
    "def get_lightness_difference(vid: Union[str, ArrayLike], fps: int = 30,\n",
    "               conversion: int = cv.COLOR_BGR2HLS) -> np.array:\n",
    "    '''\n",
    "    returns an numpy array of difference in mean of lightness between frames.\n",
    "    the length of the array = number of video frames - 1\n",
    "    '''\n",
    "    if isinstance(vid, str):\n",
    "        vid, fps = VideoReader.get_vid(vid, conversion)\n",
    "    frames = vid.shape[0]\n",
    "    print(frames)\n",
    "    height = vid.shape[1]\n",
    "    width = vid.shape[2]\n",
    "    # creates an numpy array with the lightness values of each frame\n",
    "    # the shape of the array is (frames, height*width) f.e. (300, 2500)\n",
    "    lightness_per_frame = vid.reshape(-1, 3)[:, 1].reshape((-1, height*width))\n",
    "    # aggregate by mean\n",
    "    av_lightness_per_frame = np.mean(lightness_per_frame,axis=1)\n",
    "    # shift values by 1 position down\n",
    "    shifed_lightness = np.concatenate([np.zeros(1), av_lightness_per_frame[:-1]])\n",
    "    # set 1st value to NaN\n",
    "    shifed_lightness[0] = np.nan\n",
    "    # get the difference in lightness between frames\n",
    "    diff_lightness = shifed_lightness - av_lightness_per_frame\n",
    "    # return all values but NaN\n",
    "    return diff_lightness[1:]"
   ]
  },
  {
   "cell_type": "code",
   "execution_count": 14,
   "metadata": {},
   "outputs": [],
   "source": [
    "import re"
   ]
  },
  {
   "cell_type": "code",
   "execution_count": 138,
   "metadata": {},
   "outputs": [
    {
     "data": {
      "text/plain": [
       "'hazard'"
      ]
     },
     "execution_count": 138,
     "metadata": {},
     "output_type": "execute_result"
    }
   ],
   "source": [
    "re.search('(\\w+)', filenames[0]).group()"
   ]
  },
  {
   "cell_type": "code",
   "execution_count": 12,
   "metadata": {},
   "outputs": [],
   "source": [
    "directory = 'videos1/'"
   ]
  },
  {
   "cell_type": "code",
   "execution_count": 19,
   "metadata": {},
   "outputs": [],
   "source": [
    "for f in filenames:\n",
    "    if f.endswith('.pkl'):\n",
    "        filenames.remove(f)"
   ]
  },
  {
   "cell_type": "code",
   "execution_count": 20,
   "metadata": {},
   "outputs": [
    {
     "data": {
      "text/plain": [
       "['hazard.01.mp4',\n",
       " 'hazard.02.mp4',\n",
       " 'safe.04.mp4',\n",
       " 'hazard.03.mp4',\n",
       " 'safe.01.mp4',\n",
       " 'hazard.07.mp4',\n",
       " 'hazard.06.mp4',\n",
       " 'safe.02.mp4',\n",
       " 'hazard.10.mp4',\n",
       " 'hazard.04.mp4',\n",
       " 'hazard.05.mp4',\n",
       " 'safe.03.mp4',\n",
       " 'hidden.05.mp4',\n",
       " 'hazard.08.mp4',\n",
       " 'hazard.09.mp4',\n",
       " 'hidden.04.mp4',\n",
       " 'hidden.06.mp4',\n",
       " 'hidden.03.mp4',\n",
       " 'hidden.02.mp4',\n",
       " 'hidden.01.mp4']"
      ]
     },
     "execution_count": 20,
     "metadata": {},
     "output_type": "execute_result"
    }
   ],
   "source": [
    "filenames"
   ]
  },
  {
   "cell_type": "code",
   "execution_count": 101,
   "metadata": {},
   "outputs": [],
   "source": [
    "def get_file_names(directory:str):\n",
    "    '''\n",
    "    returns the list of video files in the directory\n",
    "    '''\n",
    "    # get the list of filenames in the directory\n",
    "    filenames = \\\n",
    "        [f for f in os.listdir(directory) \n",
    "        if (os.path.isfile(os.path.join(directory, f)) and f.endswith('.mp4'))]\n",
    "    return filenames"
   ]
  },
  {
   "cell_type": "code",
   "execution_count": null,
   "metadata": {},
   "outputs": [],
   "source": [
    "def get_sequence(directory: str):\n",
    "    '''\n",
    "    '''\n",
    "    pickle_file = 'data.pkl'\n",
    "    pickle_path = directory + '/' + pickle_file\n",
    "    if os.path.isfile(pickle_path):\n",
    "        with open(pickle_path, \"rb\") as fp:\n",
    "        x = pickle.load(fp)\n",
    "    filenames = get_file_names(directory)\n",
    "    data = {'Sequence':[], 'ClassName':[]}\n",
    "    for f in filenames:\n",
    "        path = directory + '/' + f\n",
    "        sq = get_lightness_difference(path)\n",
    "        class_name = re.search('(\\w+)', f).group()\n",
    "        data['Sequence'].append(sq)\n",
    "        data['ClassName'].append(class_name)\n",
    "\n",
    "    \n",
    "    with open(\"videos1/data.pkl\", \"wb\") as outfile1:\n",
    "    pickle.dump(data, outfile1)\n",
    "        "
   ]
  },
  {
   "cell_type": "code",
   "execution_count": 21,
   "metadata": {},
   "outputs": [
    {
     "name": "stdout",
     "output_type": "stream",
     "text": [
      "3927\n",
      "785\n",
      "4561\n",
      "300\n",
      "768\n",
      "7346\n",
      "150\n",
      "2304\n",
      "1521\n",
      "150\n",
      "6314\n",
      "297\n",
      "3933\n",
      "300\n",
      "2375\n",
      "841\n",
      "1159\n",
      "407\n",
      "888\n",
      "1290\n"
     ]
    }
   ],
   "source": [
    "data_list = []\n",
    "data = {'Number':[], 'Sequence':[], 'ClassName':[]}\n",
    "for i, file_name in enumerate(filenames):\n",
    "    path = directory + file_name\n",
    "    sq = get_lightness_difference(path)\n",
    "    #print(len(sq))\n",
    "    class_name = re.search('(\\w+)', file_name).group()\n",
    "    data_list.append({'Number': i, 'Sequence': sq, 'ClassName': class_name}) \n",
    "    data['Number'].append(i)\n",
    "    data['Sequence'].append(sq)\n",
    "    data['ClassName'].append(class_name)\n",
    "    "
   ]
  },
  {
   "cell_type": "code",
   "execution_count": 179,
   "metadata": {},
   "outputs": [],
   "source": [
    "path = 'videos1/safe.04.mp4'\n",
    "df1 = df.get_exploration_df(path)"
   ]
  },
  {
   "cell_type": "code",
   "execution_count": 180,
   "metadata": {},
   "outputs": [
    {
     "data": {
      "text/html": [
       "<div>\n",
       "<style scoped>\n",
       "    .dataframe tbody tr th:only-of-type {\n",
       "        vertical-align: middle;\n",
       "    }\n",
       "\n",
       "    .dataframe tbody tr th {\n",
       "        vertical-align: top;\n",
       "    }\n",
       "\n",
       "    .dataframe thead th {\n",
       "        text-align: right;\n",
       "    }\n",
       "</style>\n",
       "<table border=\"1\" class=\"dataframe\">\n",
       "  <thead>\n",
       "    <tr style=\"text-align: right;\">\n",
       "      <th></th>\n",
       "      <th></th>\n",
       "      <th></th>\n",
       "      <th>hue</th>\n",
       "      <th>lightness</th>\n",
       "      <th>saturation</th>\n",
       "      <th>masked_values</th>\n",
       "      <th>seconds</th>\n",
       "    </tr>\n",
       "    <tr>\n",
       "      <th>frame</th>\n",
       "      <th>y</th>\n",
       "      <th>x</th>\n",
       "      <th></th>\n",
       "      <th></th>\n",
       "      <th></th>\n",
       "      <th></th>\n",
       "      <th></th>\n",
       "    </tr>\n",
       "  </thead>\n",
       "  <tbody>\n",
       "    <tr>\n",
       "      <th>0</th>\n",
       "      <th>0</th>\n",
       "      <th>0</th>\n",
       "      <td>60</td>\n",
       "      <td>99</td>\n",
       "      <td>118</td>\n",
       "      <td>0</td>\n",
       "      <td>0</td>\n",
       "    </tr>\n",
       "  </tbody>\n",
       "</table>\n",
       "</div>"
      ],
      "text/plain": [
       "           hue  lightness  saturation  masked_values  seconds\n",
       "frame y x                                                    \n",
       "0     0 0   60         99         118              0        0"
      ]
     },
     "execution_count": 180,
     "metadata": {},
     "output_type": "execute_result"
    }
   ],
   "source": [
    "df1.head(1)"
   ]
  },
  {
   "cell_type": "code",
   "execution_count": 181,
   "metadata": {},
   "outputs": [],
   "source": [
    "agg_df1 = df.get_aggregated_df(df1)"
   ]
  },
  {
   "cell_type": "code",
   "execution_count": 182,
   "metadata": {},
   "outputs": [
    {
     "data": {
      "text/html": [
       "<div>\n",
       "<style scoped>\n",
       "    .dataframe tbody tr th:only-of-type {\n",
       "        vertical-align: middle;\n",
       "    }\n",
       "\n",
       "    .dataframe tbody tr th {\n",
       "        vertical-align: top;\n",
       "    }\n",
       "\n",
       "    .dataframe thead th {\n",
       "        text-align: right;\n",
       "    }\n",
       "</style>\n",
       "<table border=\"1\" class=\"dataframe\">\n",
       "  <thead>\n",
       "    <tr style=\"text-align: right;\">\n",
       "      <th></th>\n",
       "      <th>lightness</th>\n",
       "      <th>hue</th>\n",
       "      <th>saturation</th>\n",
       "      <th>masked_values</th>\n",
       "      <th>light_diff</th>\n",
       "      <th>hue_diff</th>\n",
       "      <th>saturation_diff</th>\n",
       "      <th>mask_diff</th>\n",
       "    </tr>\n",
       "    <tr>\n",
       "      <th>frame</th>\n",
       "      <th></th>\n",
       "      <th></th>\n",
       "      <th></th>\n",
       "      <th></th>\n",
       "      <th></th>\n",
       "      <th></th>\n",
       "      <th></th>\n",
       "      <th></th>\n",
       "    </tr>\n",
       "  </thead>\n",
       "  <tbody>\n",
       "    <tr>\n",
       "      <th>4559</th>\n",
       "      <td>251.0644</td>\n",
       "      <td>4.17</td>\n",
       "      <td>8.0192</td>\n",
       "      <td>2455</td>\n",
       "      <td>0.0000</td>\n",
       "      <td>0.00</td>\n",
       "      <td>0.0000</td>\n",
       "      <td>0.0</td>\n",
       "    </tr>\n",
       "    <tr>\n",
       "      <th>4560</th>\n",
       "      <td>255.0000</td>\n",
       "      <td>0.00</td>\n",
       "      <td>0.0000</td>\n",
       "      <td>2500</td>\n",
       "      <td>-3.9356</td>\n",
       "      <td>4.17</td>\n",
       "      <td>8.0192</td>\n",
       "      <td>-45.0</td>\n",
       "    </tr>\n",
       "  </tbody>\n",
       "</table>\n",
       "</div>"
      ],
      "text/plain": [
       "       lightness   hue  saturation  masked_values  light_diff  hue_diff  \\\n",
       "frame                                                                     \n",
       "4559    251.0644  4.17      8.0192           2455      0.0000      0.00   \n",
       "4560    255.0000  0.00      0.0000           2500     -3.9356      4.17   \n",
       "\n",
       "       saturation_diff  mask_diff  \n",
       "frame                              \n",
       "4559            0.0000        0.0  \n",
       "4560            8.0192      -45.0  "
      ]
     },
     "execution_count": 182,
     "metadata": {},
     "output_type": "execute_result"
    }
   ],
   "source": [
    "agg_df1.tail(2)"
   ]
  },
  {
   "cell_type": "code",
   "execution_count": 22,
   "metadata": {},
   "outputs": [],
   "source": [
    "import json\n",
    "import pickle"
   ]
  },
  {
   "cell_type": "code",
   "execution_count": 23,
   "metadata": {},
   "outputs": [],
   "source": [
    "with open(\"videos1/data_list.pkl\", \"wb\") as outfile:\n",
    "    pickle.dump(data_list, outfile)\n",
    "with open(\"videos1/data.pkl\", \"wb\") as outfile1:\n",
    "    pickle.dump(data, outfile1)"
   ]
  },
  {
   "cell_type": "code",
   "execution_count": 153,
   "metadata": {},
   "outputs": [],
   "source": [
    "with open(\"videos1/data.pkl\", \"rb\") as f:\n",
    "    x = pickle.load(f)"
   ]
  },
  {
   "cell_type": "code",
   "execution_count": 36,
   "metadata": {},
   "outputs": [],
   "source": [
    "\n",
    "# Load the vectors into a list\n",
    "vectors = data['Sequence']\n",
    "\n",
    "# Determine the maximum length of the vectors\n",
    "max_len = max(len(v) for v in vectors)\n",
    "\n",
    "# Pad the vectors\n",
    "padded_vectors = []\n",
    "for v in vectors:\n",
    "    padded_vector = np.pad(v, (0, max_len - len(v)), 'reflect')\n",
    "    padded_vectors.append(padded_vector)\n",
    "\n",
    "# Create a mask\n",
    "mask = []\n",
    "for v in padded_vectors:\n",
    "    mask.append([1] * len(v) + [0] * (max_len - len(v)))\n",
    "\n",
    "# Convert the lists to numpy arrays\n",
    "padded_vectors = np.array(padded_vectors)\n",
    "mask = np.array(mask)\n",
    "\n",
    "data['Sequence'] = padded_vectors\n",
    "# Label the vectors\n",
    "#labels = np.array([0, 1, 0])\n"
   ]
  },
  {
   "cell_type": "code",
   "execution_count": 49,
   "metadata": {},
   "outputs": [
    {
     "data": {
      "text/plain": [
       "numpy.ndarray"
      ]
     },
     "execution_count": 49,
     "metadata": {},
     "output_type": "execute_result"
    }
   ],
   "source": [
    "type(data['Sequence'])"
   ]
  },
  {
   "cell_type": "code",
   "execution_count": 88,
   "metadata": {},
   "outputs": [],
   "source": [
    "\n",
    "data_for_labeling = np.array(data['Sequence'])\n",
    "\n",
    "# create a corresponding label array \n",
    "labels = np.array(data['ClassName'])\n",
    "\n",
    "from sklearn.preprocessing import LabelEncoder\n",
    "from keras.utils import np_utils\n",
    "# make sure that the label array is of the same data type as the numpy array\n",
    "le = LabelEncoder()\n",
    "num_labels = le.fit_transform(labels)\n",
    "labels = num_labels.astype(data_for_labeling.dtype)\n",
    "\n",
    "labels = np_utils.to_categorical(labels)\n",
    "\n"
   ]
  },
  {
   "cell_type": "code",
   "execution_count": 38,
   "metadata": {},
   "outputs": [
    {
     "data": {
      "text/plain": [
       "(20, 7345)"
      ]
     },
     "execution_count": 38,
     "metadata": {},
     "output_type": "execute_result"
    }
   ],
   "source": [
    "data_for_labeling.shape"
   ]
  },
  {
   "cell_type": "code",
   "execution_count": 39,
   "metadata": {},
   "outputs": [
    {
     "data": {
      "text/plain": [
       "array(['hazard', 'hazard', 'safe', 'hazard', 'safe', 'hazard', 'hazard',\n",
       "       'safe', 'hazard', 'hazard', 'hazard', 'safe', 'hidden', 'hazard',\n",
       "       'hazard', 'hidden', 'hidden', 'hidden', 'hidden', 'hidden'],\n",
       "      dtype='<U6')"
      ]
     },
     "execution_count": 39,
     "metadata": {},
     "output_type": "execute_result"
    }
   ],
   "source": [
    "labels"
   ]
  },
  {
   "cell_type": "code",
   "execution_count": 40,
   "metadata": {},
   "outputs": [],
   "source": []
  },
  {
   "cell_type": "code",
   "execution_count": 41,
   "metadata": {},
   "outputs": [
    {
     "data": {
      "text/plain": [
       "array([0., 0., 2., 0., 2., 0., 0., 2., 0., 0., 0., 2., 1., 0., 0., 1., 1.,\n",
       "       1., 1., 1.])"
      ]
     },
     "execution_count": 41,
     "metadata": {},
     "output_type": "execute_result"
    }
   ],
   "source": [
    "labels"
   ]
  },
  {
   "attachments": {},
   "cell_type": "markdown",
   "metadata": {},
   "source": [
    "0 - hazard\n",
    "\n",
    "1 - hidden\n",
    "\n",
    "2 - safe"
   ]
  },
  {
   "cell_type": "code",
   "execution_count": 185,
   "metadata": {},
   "outputs": [],
   "source": [
    "path = 'videos1/safe.04.mp4'\n",
    "vid, fps = VideoReader.get_vid(path, cv.COLOR_BGR2HLS)"
   ]
  },
  {
   "cell_type": "code",
   "execution_count": 189,
   "metadata": {},
   "outputs": [],
   "source": [
    "    frames = vid.shape[0]\n",
    "    height = vid.shape[1]\n",
    "    width = vid.shape[2]"
   ]
  },
  {
   "cell_type": "code",
   "execution_count": 190,
   "metadata": {},
   "outputs": [],
   "source": [
    "lightness_per_frame = vid.reshape(-1, 3)[:, 1].reshape((-1, height*width))"
   ]
  },
  {
   "cell_type": "code",
   "execution_count": 191,
   "metadata": {},
   "outputs": [
    {
     "data": {
      "text/plain": [
       "(4561, 2500)"
      ]
     },
     "execution_count": 191,
     "metadata": {},
     "output_type": "execute_result"
    }
   ],
   "source": [
    "lightness_per_frame.shape"
   ]
  },
  {
   "cell_type": "code",
   "execution_count": 192,
   "metadata": {},
   "outputs": [],
   "source": [
    "shifed_lightness = np.concatenate([np.zeros(1), av_lightness_per_frame[:-1]])"
   ]
  },
  {
   "cell_type": "code",
   "execution_count": 193,
   "metadata": {},
   "outputs": [
    {
     "data": {
      "text/plain": [
       "(300,)"
      ]
     },
     "execution_count": 193,
     "metadata": {},
     "output_type": "execute_result"
    }
   ],
   "source": [
    "shifed_lightness.shape # found an error"
   ]
  },
  {
   "cell_type": "code",
   "execution_count": 44,
   "metadata": {},
   "outputs": [
    {
     "name": "stderr",
     "output_type": "stream",
     "text": [
      "2023-04-10 11:59:01.192688: I tensorflow/core/platform/cpu_feature_guard.cc:182] This TensorFlow binary is optimized to use available CPU instructions in performance-critical operations.\n",
      "To enable the following instructions: AVX2 FMA, in other operations, rebuild TensorFlow with the appropriate compiler flags.\n"
     ]
    }
   ],
   "source": [
    "import tensorflow as tf"
   ]
  },
  {
   "cell_type": "code",
   "execution_count": 58,
   "metadata": {},
   "outputs": [],
   "source": [
    "from sklearn.preprocessing import StandardScaler"
   ]
  },
  {
   "cell_type": "code",
   "execution_count": 59,
   "metadata": {},
   "outputs": [],
   "source": [
    "sc = StandardScaler()\n",
    "data_for_labeling = sc.fit_transform(data_for_labeling)"
   ]
  },
  {
   "cell_type": "code",
   "execution_count": 89,
   "metadata": {},
   "outputs": [],
   "source": [
    "ann = tf.keras.models.Sequential()\n",
    "ann.add(tf.keras.layers.Dense(units=5000, activation='relu'))\n",
    "ann.add(tf.keras.layers.Dense(units=3, activation='softmax'))"
   ]
  },
  {
   "cell_type": "code",
   "execution_count": 90,
   "metadata": {},
   "outputs": [],
   "source": [
    "ann.compile(optimizer='adam', loss='categorical_crossentropy', metrics=['accuracy'])"
   ]
  },
  {
   "cell_type": "code",
   "execution_count": 91,
   "metadata": {},
   "outputs": [
    {
     "name": "stdout",
     "output_type": "stream",
     "text": [
      "Epoch 1/50\n",
      "1/1 [==============================] - 1s 1s/step - loss: 8.7662 - accuracy: 0.5000\n",
      "Epoch 2/50\n",
      "1/1 [==============================] - 0s 413ms/step - loss: 38.1417 - accuracy: 0.8000\n",
      "Epoch 3/50\n",
      "1/1 [==============================] - 0s 440ms/step - loss: 5.9605e-09 - accuracy: 1.0000\n",
      "Epoch 4/50\n",
      "1/1 [==============================] - 0s 414ms/step - loss: 0.0000e+00 - accuracy: 1.0000\n",
      "Epoch 5/50\n",
      "1/1 [==============================] - 0s 422ms/step - loss: 0.0000e+00 - accuracy: 1.0000\n",
      "Epoch 6/50\n",
      "1/1 [==============================] - 0s 426ms/step - loss: 0.0000e+00 - accuracy: 1.0000\n",
      "Epoch 7/50\n",
      "1/1 [==============================] - 1s 502ms/step - loss: 0.0000e+00 - accuracy: 1.0000\n",
      "Epoch 8/50\n",
      "1/1 [==============================] - 0s 446ms/step - loss: 0.0000e+00 - accuracy: 1.0000\n",
      "Epoch 9/50\n",
      "1/1 [==============================] - 0s 406ms/step - loss: 0.0000e+00 - accuracy: 1.0000\n",
      "Epoch 10/50\n",
      "1/1 [==============================] - 0s 397ms/step - loss: 0.0000e+00 - accuracy: 1.0000\n",
      "Epoch 11/50\n",
      "1/1 [==============================] - 0s 423ms/step - loss: 0.0000e+00 - accuracy: 1.0000\n",
      "Epoch 12/50\n",
      "1/1 [==============================] - 0s 372ms/step - loss: 0.0000e+00 - accuracy: 1.0000\n",
      "Epoch 13/50\n",
      "1/1 [==============================] - 0s 414ms/step - loss: 0.0000e+00 - accuracy: 1.0000\n",
      "Epoch 14/50\n",
      "1/1 [==============================] - 0s 400ms/step - loss: 0.0000e+00 - accuracy: 1.0000\n",
      "Epoch 15/50\n",
      "1/1 [==============================] - 0s 399ms/step - loss: 0.0000e+00 - accuracy: 1.0000\n",
      "Epoch 16/50\n",
      "1/1 [==============================] - 0s 420ms/step - loss: 0.0000e+00 - accuracy: 1.0000\n",
      "Epoch 17/50\n",
      "1/1 [==============================] - 0s 432ms/step - loss: 0.0000e+00 - accuracy: 1.0000\n",
      "Epoch 18/50\n",
      "1/1 [==============================] - 0s 409ms/step - loss: 0.0000e+00 - accuracy: 1.0000\n",
      "Epoch 19/50\n",
      "1/1 [==============================] - 0s 409ms/step - loss: 0.0000e+00 - accuracy: 1.0000\n",
      "Epoch 20/50\n",
      "1/1 [==============================] - 0s 401ms/step - loss: 0.0000e+00 - accuracy: 1.0000\n",
      "Epoch 21/50\n",
      "1/1 [==============================] - 0s 431ms/step - loss: 0.0000e+00 - accuracy: 1.0000\n",
      "Epoch 22/50\n",
      "1/1 [==============================] - 0s 416ms/step - loss: 0.0000e+00 - accuracy: 1.0000\n",
      "Epoch 23/50\n",
      "1/1 [==============================] - 0s 432ms/step - loss: 0.0000e+00 - accuracy: 1.0000\n",
      "Epoch 24/50\n",
      "1/1 [==============================] - 0s 439ms/step - loss: 0.0000e+00 - accuracy: 1.0000\n",
      "Epoch 25/50\n",
      "1/1 [==============================] - 0s 429ms/step - loss: 0.0000e+00 - accuracy: 1.0000\n",
      "Epoch 26/50\n",
      "1/1 [==============================] - 0s 404ms/step - loss: 0.0000e+00 - accuracy: 1.0000\n",
      "Epoch 27/50\n",
      "1/1 [==============================] - 0s 413ms/step - loss: 0.0000e+00 - accuracy: 1.0000\n",
      "Epoch 28/50\n",
      "1/1 [==============================] - 0s 397ms/step - loss: 0.0000e+00 - accuracy: 1.0000\n",
      "Epoch 29/50\n",
      "1/1 [==============================] - 0s 481ms/step - loss: 0.0000e+00 - accuracy: 1.0000\n",
      "Epoch 30/50\n",
      "1/1 [==============================] - 0s 452ms/step - loss: 0.0000e+00 - accuracy: 1.0000\n",
      "Epoch 31/50\n",
      "1/1 [==============================] - 0s 435ms/step - loss: 0.0000e+00 - accuracy: 1.0000\n",
      "Epoch 32/50\n",
      "1/1 [==============================] - 0s 436ms/step - loss: 0.0000e+00 - accuracy: 1.0000\n",
      "Epoch 33/50\n",
      "1/1 [==============================] - 0s 409ms/step - loss: 0.0000e+00 - accuracy: 1.0000\n",
      "Epoch 34/50\n",
      "1/1 [==============================] - 0s 406ms/step - loss: 0.0000e+00 - accuracy: 1.0000\n",
      "Epoch 35/50\n",
      "1/1 [==============================] - 0s 412ms/step - loss: 0.0000e+00 - accuracy: 1.0000\n",
      "Epoch 36/50\n",
      "1/1 [==============================] - 0s 388ms/step - loss: 0.0000e+00 - accuracy: 1.0000\n",
      "Epoch 37/50\n",
      "1/1 [==============================] - 0s 468ms/step - loss: 0.0000e+00 - accuracy: 1.0000\n",
      "Epoch 38/50\n",
      "1/1 [==============================] - 0s 474ms/step - loss: 0.0000e+00 - accuracy: 1.0000\n",
      "Epoch 39/50\n",
      "1/1 [==============================] - 0s 440ms/step - loss: 0.0000e+00 - accuracy: 1.0000\n",
      "Epoch 40/50\n",
      "1/1 [==============================] - 0s 391ms/step - loss: 0.0000e+00 - accuracy: 1.0000\n",
      "Epoch 41/50\n",
      "1/1 [==============================] - 0s 426ms/step - loss: 0.0000e+00 - accuracy: 1.0000\n",
      "Epoch 42/50\n",
      "1/1 [==============================] - 0s 418ms/step - loss: 0.0000e+00 - accuracy: 1.0000\n",
      "Epoch 43/50\n",
      "1/1 [==============================] - 0s 414ms/step - loss: 0.0000e+00 - accuracy: 1.0000\n",
      "Epoch 44/50\n",
      "1/1 [==============================] - 0s 429ms/step - loss: 0.0000e+00 - accuracy: 1.0000\n",
      "Epoch 45/50\n",
      "1/1 [==============================] - 0s 390ms/step - loss: 0.0000e+00 - accuracy: 1.0000\n",
      "Epoch 46/50\n",
      "1/1 [==============================] - 0s 403ms/step - loss: 0.0000e+00 - accuracy: 1.0000\n",
      "Epoch 47/50\n",
      "1/1 [==============================] - 0s 419ms/step - loss: 0.0000e+00 - accuracy: 1.0000\n",
      "Epoch 48/50\n",
      "1/1 [==============================] - 0s 431ms/step - loss: 0.0000e+00 - accuracy: 1.0000\n",
      "Epoch 49/50\n",
      "1/1 [==============================] - 0s 378ms/step - loss: 0.0000e+00 - accuracy: 1.0000\n",
      "Epoch 50/50\n",
      "1/1 [==============================] - 0s 424ms/step - loss: 0.0000e+00 - accuracy: 1.0000\n"
     ]
    },
    {
     "data": {
      "text/plain": [
       "<keras.callbacks.History at 0x1c2701f90>"
      ]
     },
     "execution_count": 91,
     "metadata": {},
     "output_type": "execute_result"
    }
   ],
   "source": [
    "ann.fit(data_for_labeling, labels,  batch_size=64, epochs=50)"
   ]
  },
  {
   "cell_type": "code",
   "execution_count": 82,
   "metadata": {},
   "outputs": [
    {
     "name": "stdout",
     "output_type": "stream",
     "text": [
      "1/1 [==============================] - 0s 106ms/step\n"
     ]
    },
    {
     "data": {
      "text/plain": [
       "array([[0.99999994],\n",
       "       [0.99999994],\n",
       "       [0.99999994],\n",
       "       [0.99999994],\n",
       "       [0.99999994],\n",
       "       [0.99999994],\n",
       "       [0.99999994],\n",
       "       [0.99999994],\n",
       "       [0.99999994],\n",
       "       [0.99999994],\n",
       "       [0.99999994],\n",
       "       [0.99999994],\n",
       "       [0.99999994],\n",
       "       [0.99999994],\n",
       "       [0.99999994],\n",
       "       [0.99999994],\n",
       "       [1.        ],\n",
       "       [1.        ],\n",
       "       [1.        ],\n",
       "       [1.        ]], dtype=float32)"
      ]
     },
     "execution_count": 82,
     "metadata": {},
     "output_type": "execute_result"
    }
   ],
   "source": [
    "ann.predict(data_for_labeling)"
   ]
  },
  {
   "cell_type": "code",
   "execution_count": 92,
   "metadata": {},
   "outputs": [
    {
     "data": {
      "text/plain": [
       "array([[1., 0., 0.],\n",
       "       [1., 0., 0.],\n",
       "       [0., 0., 1.],\n",
       "       [1., 0., 0.],\n",
       "       [0., 0., 1.],\n",
       "       [1., 0., 0.],\n",
       "       [1., 0., 0.],\n",
       "       [0., 0., 1.],\n",
       "       [1., 0., 0.],\n",
       "       [1., 0., 0.],\n",
       "       [1., 0., 0.],\n",
       "       [0., 0., 1.],\n",
       "       [0., 1., 0.],\n",
       "       [1., 0., 0.],\n",
       "       [1., 0., 0.],\n",
       "       [0., 1., 0.],\n",
       "       [0., 1., 0.],\n",
       "       [0., 1., 0.],\n",
       "       [0., 1., 0.],\n",
       "       [0., 1., 0.]], dtype=float32)"
      ]
     },
     "execution_count": 92,
     "metadata": {},
     "output_type": "execute_result"
    }
   ],
   "source": [
    "labels"
   ]
  },
  {
   "cell_type": "code",
   "execution_count": 93,
   "metadata": {},
   "outputs": [],
   "source": [
    "from keras.wrappers.scikit_learn import KerasClassifier\n",
    "from sklearn.model_selection import cross_val_score\n",
    "from sklearn.model_selection import KFold"
   ]
  },
  {
   "cell_type": "code",
   "execution_count": null,
   "metadata": {},
   "outputs": [],
   "source": []
  }
 ],
 "metadata": {
  "kernelspec": {
   "display_name": "epilator",
   "language": "python",
   "name": "python3"
  },
  "language_info": {
   "codemirror_mode": {
    "name": "ipython",
    "version": 3
   },
   "file_extension": ".py",
   "mimetype": "text/x-python",
   "name": "python",
   "nbconvert_exporter": "python",
   "pygments_lexer": "ipython3",
   "version": "3.11.0"
  },
  "orig_nbformat": 4
 },
 "nbformat": 4,
 "nbformat_minor": 2
}
