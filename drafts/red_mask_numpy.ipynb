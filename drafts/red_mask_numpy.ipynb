{
 "cells": [
  {
   "cell_type": "code",
   "execution_count": 1,
   "metadata": {},
   "outputs": [],
   "source": [
    "import pandas as pd\n",
    "import numpy as np\n",
    "import video.df as df\n",
    "from video import vid\n",
    "from video import df\n",
    "from video import frame\n",
    "\n",
    "import video.reader as r\n",
    "import cv2 as cv\n",
    "from video.reader import VideoReader\n",
    "\n",
    "\n",
    "from typing import List, Union\n",
    "from numpy.typing import ArrayLike"
   ]
  },
  {
   "cell_type": "code",
   "execution_count": 2,
   "metadata": {},
   "outputs": [],
   "source": [
    "vid, fps = VideoReader.get_vid('videos/Banned Pokemon Seizure Scene.mp4', \n",
    "                conversion=cv.COLOR_BGR2HLS)"
   ]
  },
  {
   "cell_type": "code",
   "execution_count": 23,
   "metadata": {},
   "outputs": [
    {
     "data": {
      "text/plain": [
       "(785, 50, 50, 3)"
      ]
     },
     "execution_count": 23,
     "metadata": {},
     "output_type": "execute_result"
    }
   ],
   "source": [
    "vid.shape"
   ]
  },
  {
   "cell_type": "code",
   "execution_count": 5,
   "metadata": {},
   "outputs": [],
   "source": [
    "width = vid.shape[2]\n",
    "height = vid.shape[1]\n",
    "frames = vid.shape[0]"
   ]
  },
  {
   "cell_type": "code",
   "execution_count": 28,
   "metadata": {},
   "outputs": [
    {
     "data": {
      "text/plain": [
       "(50, 50)"
      ]
     },
     "execution_count": 28,
     "metadata": {},
     "output_type": "execute_result"
    }
   ],
   "source": [
    "width, height"
   ]
  },
  {
   "cell_type": "code",
   "execution_count": 16,
   "metadata": {},
   "outputs": [
    {
     "data": {
      "text/plain": [
       "array([ 0, 36,  0], dtype=uint8)"
      ]
     },
     "execution_count": 16,
     "metadata": {},
     "output_type": "execute_result"
    }
   ],
   "source": [
    "vid[0][0][0]"
   ]
  },
  {
   "cell_type": "code",
   "execution_count": 8,
   "metadata": {},
   "outputs": [
    {
     "data": {
      "text/plain": [
       "(785, 50, 50, 3)"
      ]
     },
     "execution_count": 8,
     "metadata": {},
     "output_type": "execute_result"
    }
   ],
   "source": [
    "vid.shape"
   ]
  },
  {
   "cell_type": "code",
   "execution_count": 12,
   "metadata": {},
   "outputs": [
    {
     "data": {
      "text/plain": [
       "(2500, 3)"
      ]
     },
     "execution_count": 12,
     "metadata": {},
     "output_type": "execute_result"
    }
   ],
   "source": [
    "vid[0].reshape(-1, 3).shape"
   ]
  },
  {
   "cell_type": "code",
   "execution_count": 3,
   "metadata": {},
   "outputs": [],
   "source": [
    "def get_red_mask(img):\n",
    "    # mask for hue below 10 hue, lightness, saturation\n",
    "    lb = np.array([0,50,50], dtype=np.uint8)\n",
    "    ub = np.array([10,255,255], dtype=np.uint8)\n",
    "    mask1 = cv.inRange(img, lb, ub)\n",
    "\n",
    "    # # mask for hue above 340\n",
    "    lb1 = np.array([170,50, 50], dtype=np.uint8)\n",
    "    ub1 = np.array([180,255, 255], dtype=np.uint8)\n",
    "    mask2 = cv.inRange(img, lb1, ub1)\n",
    "\n",
    "    return mask1 | mask2"
   ]
  },
  {
   "cell_type": "code",
   "execution_count": 25,
   "metadata": {},
   "outputs": [],
   "source": [
    "im1 = cv.imread('img/img40.jpg')"
   ]
  },
  {
   "cell_type": "code",
   "execution_count": 26,
   "metadata": {},
   "outputs": [
    {
     "data": {
      "text/plain": [
       "(400, 600, 3)"
      ]
     },
     "execution_count": 26,
     "metadata": {},
     "output_type": "execute_result"
    }
   ],
   "source": [
    "im1.shape"
   ]
  },
  {
   "cell_type": "code",
   "execution_count": null,
   "metadata": {},
   "outputs": [],
   "source": []
  },
  {
   "cell_type": "code",
   "execution_count": 14,
   "metadata": {},
   "outputs": [],
   "source": [
    "# create en empty array of integers\n",
    "narr = np.empty((0,), dtype=np.uint8)\n",
    "for v in vid:\n",
    "    # get video frame\n",
    "    frame = v.reshape(height, width, 3)\n",
    "    # apply red mask\n",
    "    mask = get_red_mask(frame)\n",
    "    # append masked values as 1D array narr\n",
    "    narr = np.concatenate([narr, mask.reshape(-1)])\n",
    "# narr -> array whith masked red values. represent pixels of each video frame\n",
    "# in the video. if the pixel is red it equals 1 else 0\n",
    "narr = np.where(narr == 255, 1, 0)\n",
    "# count the number of pixels in frame\n",
    "total_pixels_per_frame = width * height\n",
    "    "
   ]
  },
  {
   "cell_type": "code",
   "execution_count": 7,
   "metadata": {},
   "outputs": [],
   "source": []
  },
  {
   "cell_type": "code",
   "execution_count": 8,
   "metadata": {},
   "outputs": [
    {
     "data": {
      "text/plain": [
       "785.0"
      ]
     },
     "execution_count": 8,
     "metadata": {},
     "output_type": "execute_result"
    }
   ],
   "source": [
    "narr.shape[0] / total_pixels_per_frame"
   ]
  },
  {
   "cell_type": "code",
   "execution_count": 54,
   "metadata": {},
   "outputs": [
    {
     "data": {
      "text/plain": [
       "array([0, 1])"
      ]
     },
     "execution_count": 54,
     "metadata": {},
     "output_type": "execute_result"
    }
   ],
   "source": [
    "np.unique(narr)"
   ]
  },
  {
   "cell_type": "code",
   "execution_count": 15,
   "metadata": {},
   "outputs": [],
   "source": [
    "# reshape the narr array to the shape of (frame, total pixels)\n",
    "narr = narr.reshape(frames, height * width)"
   ]
  },
  {
   "cell_type": "code",
   "execution_count": 21,
   "metadata": {},
   "outputs": [
    {
     "name": "stdout",
     "output_type": "stream",
     "text": [
      "145\n"
     ]
    }
   ],
   "source": [
    "red_frames = 0\n",
    "for n in narr:\n",
    "    if n.sum() > total_pixels_per_frame / 4:\n",
    "        red_frames += 1\n",
    "print(red_frames)"
   ]
  },
  {
   "cell_type": "code",
   "execution_count": 25,
   "metadata": {},
   "outputs": [],
   "source": [
    "def detect_red_frames_portion(video_path: str):\n",
    "    '''\n",
    "    detects what % of video frames have red color on more than 25% of the screen\n",
    "    '''\n",
    "    # get video and fps\n",
    "    vid, fps = VideoReader.get_vid(video_path, \n",
    "                conversion=cv.COLOR_BGR2HLS)\n",
    "    # get # of frames, width and height of each frame\n",
    "    width = vid.shape[2]\n",
    "    height = vid.shape[1]\n",
    "    frames = vid.shape[0]\n",
    "\n",
    "    # create en empty array of integers\n",
    "    narr = np.empty((0,), dtype=np.uint8)\n",
    "    for v in vid:\n",
    "        # get video frame\n",
    "        frame = v.reshape(height, width, 3)\n",
    "        # apply red mask\n",
    "        mask = get_red_mask(frame)\n",
    "        # append masked values as 1D array narr\n",
    "        narr = np.concatenate([narr, mask.reshape(-1)])\n",
    "    # narr -> array whith masked red values. represent pixels of each video frame\n",
    "    # in the video. if the pixel is red it equals 1 else 0\n",
    "    narr = np.where(narr == 255, 1, 0)\n",
    "    # count the number of pixels in frame\n",
    "    total_pixels_per_frame = width * height\n",
    "    \n",
    "    # reshape the narr array to the shape of (frame, total pixels)\n",
    "    narr = narr.reshape(frames, total_pixels_per_frame)\n",
    "\n",
    "    red_frames = 0\n",
    "    for n in narr:\n",
    "        if n.sum() > total_pixels_per_frame / 4:\n",
    "            red_frames += 1\n",
    "    \n",
    "    return round(red_frames / frames * 100, 2)"
   ]
  },
  {
   "cell_type": "code",
   "execution_count": 26,
   "metadata": {},
   "outputs": [
    {
     "data": {
      "text/plain": [
       "18.47"
      ]
     },
     "execution_count": 26,
     "metadata": {},
     "output_type": "execute_result"
    }
   ],
   "source": [
    "detect_red_frames_portion(video_path='videos/Banned Pokemon Seizure Scene.mp4')"
   ]
  },
  {
   "cell_type": "code",
   "execution_count": null,
   "metadata": {},
   "outputs": [],
   "source": []
  }
 ],
 "metadata": {
  "kernelspec": {
   "display_name": "epilator",
   "language": "python",
   "name": "python3"
  },
  "language_info": {
   "codemirror_mode": {
    "name": "ipython",
    "version": 3
   },
   "file_extension": ".py",
   "mimetype": "text/x-python",
   "name": "python",
   "nbconvert_exporter": "python",
   "pygments_lexer": "ipython3",
   "version": "3.11.0"
  },
  "orig_nbformat": 4
 },
 "nbformat": 4,
 "nbformat_minor": 2
}
