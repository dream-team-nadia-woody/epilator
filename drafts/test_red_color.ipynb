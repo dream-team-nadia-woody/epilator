{
 "cells": [
  {
   "cell_type": "code",
   "execution_count": 1,
   "metadata": {},
   "outputs": [],
   "source": [
    "from video import hazard_detection as hd\n",
    "from importlib import reload\n",
    "from matplotlib.pyplot import plot\n",
    "import matplotlib.pyplot as plt\n",
    "import os\n",
    "import numpy as np \n",
    "from video.reader import VideoReader\n",
    "from video import videolike as vdl\n",
    "import cv2 as cv"
   ]
  },
  {
   "cell_type": "code",
   "execution_count": 2,
   "metadata": {},
   "outputs": [],
   "source": [
    "directory_path = \"videos\"\n",
    "\n",
    "# get the list of filenames in the directory\n",
    "filenames = [directory_path+'/' + f for f in os.listdir(directory_path) if os.path.isfile(os.path.join(directory_path, f))]"
   ]
  },
  {
   "attachments": {},
   "cell_type": "markdown",
   "metadata": {},
   "source": [
    "Test if the red color takes > 25% of screen"
   ]
  },
  {
   "cell_type": "code",
   "execution_count": 7,
   "metadata": {},
   "outputs": [
    {
     "data": {
      "text/plain": [
       "<module 'video.hazard_detection' from '/Users/nadina/Documents/codeup/epilator/video/hazard_detection.py'>"
      ]
     },
     "execution_count": 7,
     "metadata": {},
     "output_type": "execute_result"
    }
   ],
   "source": [
    "reload(hd)"
   ]
  },
  {
   "cell_type": "code",
   "execution_count": 8,
   "metadata": {},
   "outputs": [
    {
     "name": "stdout",
     "output_type": "stream",
     "text": [
      "videos/Color Flash.mp4\n",
      "[0]\n",
      "videos/Paparazzi flashes.mp4\n",
      "[]\n",
      "videos/Delete & Killshot - Disco Weapon [Epilepsy Warning].mp4\n",
      "[0]\n",
      "videos/Blue Green Flash.mp4\n",
      "[]\n",
      "videos/little hens and dog.mp4\n",
      "[]\n",
      "videos/Red Spin.mp4\n",
      "[0]\n",
      "videos/Banned Pokemon Seizure Scene.mp4\n",
      "[0]\n",
      "videos/Superman 80th Anniversary Animated Short  @dckids.mp4\n",
      "[0]\n",
      "videos/Car flips over bridge following police pursuit.mp4\n",
      "[]\n",
      "videos/Top 10 Dangerous Lightning Strikes Thunder recorded on Camera (HIGH VOLTAGE!!).mp4\n",
      "[]\n",
      "videos/MASSIVE gas factory explosion caught on camera!!.mp4\n",
      "[0]\n",
      "videos/Plant explosion caught on camera.mp4\n",
      "[]\n",
      "videos/Black White Flash.mp4\n",
      "[]\n",
      "videos/Blue Green Fade.mp4\n",
      "[]\n",
      "videos/W I L T Short Art Film by Anthony Petano  EPILEPSY WARNING.mp4\n",
      "[0]\n",
      "videos/Clutrrglych - •Ô•‘ [OFFICIAL MUSIC VIDEO] [PHOTOSENSITIVE EPILEPSY WARNING].mp4\n",
      "[0]\n",
      "videos/video to induce seizures.mp4\n",
      "[0]\n",
      "videos/Color Fade.mp4\n",
      "[0]\n",
      "videos/[Epilepsy Warning]  Royal & The Serpent - Overwhelmed  Fan Music Video.mp4\n",
      "[0]\n",
      "videos/Learn A To Z Insects For Kindergarten  A to Z  Learning Video  A To Z Reading  The Little Lumen.mp4\n",
      "[]\n"
     ]
    }
   ],
   "source": [
    "for f in filenames:\n",
    "    print(f)\n",
    "    sec = hd.detect_red_light(f)\n",
    "    print(sec)"
   ]
  },
  {
   "attachments": {},
   "cell_type": "markdown",
   "metadata": {},
   "source": [
    "13+ min to analyze videos and works incorrectly. Trying again an old func to count proportion of red color frames"
   ]
  },
  {
   "cell_type": "code",
   "execution_count": 18,
   "metadata": {},
   "outputs": [],
   "source": [
    "def get_red_mask(img):\n",
    "    # mask for hue below 10 hue, lightness, saturation\n",
    "    lb = np.array([0,50,50], dtype=np.uint8)\n",
    "    ub = np.array([10,255,255], dtype=np.uint8)\n",
    "    mask1 = cv.inRange(img, lb, ub)\n",
    "\n",
    "    # # mask for hue above 340\n",
    "    lb1 = np.array([170,50, 50], dtype=np.uint8)\n",
    "    ub1 = np.array([180,255, 255], dtype=np.uint8)\n",
    "    mask2 = cv.inRange(img, lb1, ub1)\n",
    "\n",
    "    return mask1 | mask2\n",
    "\n",
    "def detect_red_frames_portion(video_path: str, seconds: bool=True):\n",
    "    '''\n",
    "    detects what % of video frames have red color on more than 25% of the screen\n",
    "    '''\n",
    "    # get video and fps\n",
    "    vid, fps = VideoReader.get_vid(video_path, \n",
    "                conversion=cv.COLOR_BGR2HLS)\n",
    "    # get # of frames, width and height of each frame\n",
    "    width = vid.shape[2]\n",
    "    height = vid.shape[1]\n",
    "    frames = vid.shape[0]\n",
    "\n",
    "    # create en empty array of integers\n",
    "    narr = np.empty((0,), dtype=np.uint8)\n",
    "    for v in vid:\n",
    "        # get video frame\n",
    "        frame = v.reshape(height, width, 3)\n",
    "        # apply red mask\n",
    "        mask = get_red_mask(frame)\n",
    "        # append masked values as 1D array narr\n",
    "        narr = np.concatenate([narr, mask.reshape(-1)])\n",
    "    # narr -> array whith masked red values. represent pixels of each video frame\n",
    "    # in the video. if the pixel is red it equals 1 else 0\n",
    "    narr = np.where(narr == 255, 1, 0)\n",
    "    # count the number of pixels in frame\n",
    "    total_pixels_per_frame = width * height\n",
    "    \n",
    "    # reshape the narr array to the shape of (frame, total pixels)\n",
    "    narr = narr.reshape(frames, total_pixels_per_frame)\n",
    "\n",
    "    red_frames = 0\n",
    "    sec = np.empty(0, dtype=int)\n",
    "    for i, n in enumerate(narr):\n",
    "        if n.sum() > total_pixels_per_frame / 4:\n",
    "            red_frames += 1\n",
    "            sec = np.append(sec, i // fps)\n",
    "    \n",
    "    if seconds:\n",
    "        return np.unique(sec)\n",
    "    else:\n",
    "        return round(red_frames / frames * 100, 2)"
   ]
  },
  {
   "cell_type": "code",
   "execution_count": 19,
   "metadata": {},
   "outputs": [
    {
     "name": "stdout",
     "output_type": "stream",
     "text": [
      "videos/Color Flash.mp4\n",
      "[0 1 2 3 4]\n",
      "videos/Paparazzi flashes.mp4\n",
      "[]\n",
      "videos/Delete & Killshot - Disco Weapon [Epilepsy Warning].mp4\n",
      "[ 60  74  75  81  82 113 114 119 121 122 123 124 125 126 127 130 153 155\n",
      " 156 157 158 159 160 164 165 166 167 168 174 175 176 177 178 179 180 188\n",
      " 190 191 194 195 196 203 204 205 206 208 210 211 212 213 214 215 216 217\n",
      " 218 220 221 222 223 225 231 232]\n",
      "videos/Blue Green Flash.mp4\n",
      "[]\n",
      "videos/little hens and dog.mp4\n",
      "[]\n",
      "videos/Red Spin.mp4\n",
      "[0 1 2 3 4 5 6 7 8 9]\n",
      "videos/Banned Pokemon Seizure Scene.mp4\n",
      "[ 8  9 15 16 17 18 19 20 22]\n",
      "videos/Superman 80th Anniversary Animated Short  @dckids.mp4\n",
      "[  3   4  15  21  22  23  24  25  28  29  40  54  58  59  60  77  80  81\n",
      "  82  83  86  87  88  92  93  94  95  96  97  98 101 102 103 104 105 106\n",
      " 107 108]\n",
      "videos/Car flips over bridge following police pursuit.mp4\n",
      "[]\n",
      "videos/Top 10 Dangerous Lightning Strikes Thunder recorded on Camera (HIGH VOLTAGE!!).mp4\n",
      "[]\n",
      "videos/MASSIVE gas factory explosion caught on camera!!.mp4\n",
      "[ 0  1  2  3  4  5  6  7  8  9 10 11 12 13 15 16 22 23 24 25 26 27 28 29]\n",
      "videos/Plant explosion caught on camera.mp4\n",
      "[]\n",
      "videos/Black White Flash.mp4\n",
      "[]\n",
      "videos/Blue Green Fade.mp4\n",
      "[]\n",
      "videos/W I L T Short Art Film by Anthony Petano  EPILEPSY WARNING.mp4\n",
      "[ 0  1  2  3 10 18 23 24 25 26 27 49 50 51 52 54 55 56 57 58 59 60 61 62\n",
      " 63]\n",
      "videos/Clutrrglych - •Ô•‘ [OFFICIAL MUSIC VIDEO] [PHOTOSENSITIVE EPILEPSY WARNING].mp4\n",
      "[ 15  16  17  18  19  20  21  22  23  24  25  26  27  28  29  30  31  32\n",
      "  33  34  35  36  37  38  51  52  53  54  55  56  57  58  59  60  61  62\n",
      "  63  75  76  77  78  79  80  81  82  83  84  85  86  87  88  89  90  91\n",
      "  92  93  94  95  96  97  98  99 100 101 102 104 105 106 107 108 109 110\n",
      " 111 123 124 125 126 127 128 129 130 131 132 133 134 135 198 199 200 201\n",
      " 202 203 204 205 206 207 208]\n",
      "videos/video to induce seizures.mp4\n",
      "[20 21 22 39 40 41 42 43 44 45 46 47 48 49 50 51 52 53 58 59 60 61 62 67\n",
      " 68 69 70 71 72 73 78 79]\n",
      "videos/Color Fade.mp4\n",
      "[19 20 21 22 25 26 27 28 29]\n",
      "videos/[Epilepsy Warning]  Royal & The Serpent - Overwhelmed  Fan Music Video.mp4\n",
      "[19]\n",
      "videos/Learn A To Z Insects For Kindergarten  A to Z  Learning Video  A To Z Reading  The Little Lumen.mp4\n",
      "[]\n"
     ]
    }
   ],
   "source": [
    "for f in filenames:\n",
    "    print(f)\n",
    "    print(detect_red_frames_portion(f))\n",
    "   "
   ]
  },
  {
   "cell_type": "code",
   "execution_count": null,
   "metadata": {},
   "outputs": [],
   "source": []
  },
  {
   "cell_type": "code",
   "execution_count": null,
   "metadata": {},
   "outputs": [],
   "source": []
  }
 ],
 "metadata": {
  "kernelspec": {
   "display_name": "epilator",
   "language": "python",
   "name": "python3"
  },
  "language_info": {
   "codemirror_mode": {
    "name": "ipython",
    "version": 3
   },
   "file_extension": ".py",
   "mimetype": "text/x-python",
   "name": "python",
   "nbconvert_exporter": "python",
   "pygments_lexer": "ipython3",
   "version": "3.11.0"
  },
  "orig_nbformat": 4
 },
 "nbformat": 4,
 "nbformat_minor": 2
}
