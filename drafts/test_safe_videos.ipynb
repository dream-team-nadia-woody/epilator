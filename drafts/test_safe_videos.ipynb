{
 "cells": [
  {
   "cell_type": "code",
   "execution_count": 1,
   "metadata": {},
   "outputs": [],
   "source": [
    "from video import hazard_detection as hd\n",
    "from importlib import reload\n",
    "from matplotlib.pyplot import plot\n",
    "import matplotlib.pyplot as plt\n",
    "import os\n",
    "import numpy as np \n",
    "from video.reader import VideoReader\n",
    "from video import videolike as vdl\n",
    "import cv2 as cv\n",
    "import acquire as ac"
   ]
  },
  {
   "cell_type": "code",
   "execution_count": 2,
   "metadata": {},
   "outputs": [],
   "source": [
    "# 10 normal short videos\n",
    "safe_videos = [\n",
    "    'https://www.youtube.com/watch?v=I-5DLxr0QNM',\n",
    "    'https://www.youtube.com/watch?v=YyAuFiIv-V4', # might have flashes funny cats\n",
    "    'https://www.youtube.com/watch?v=r11Lr4FILX8',\n",
    "    'https://www.youtube.com/watch?v=fLeJJPxua3E',\n",
    "    'https://www.youtube.com/watch?v=sVPYIRF9RCQ',\n",
    "    'https://www.youtube.com/watch?v=SUSSl5vO27k',\n",
    "    'https://www.youtube.com/watch?v=hS5CfP8n_js',\n",
    "    'https://www.youtube.com/watch?v=ERClHCOF14c',\n",
    "    'https://www.youtube.com/watch?v=4QzRHWG83AA',\n",
    "    'https://www.youtube.com/watch?v=KGE0x5dIpxA' #might have some non-hazard color flashes\n",
    "]"
   ]
  },
  {
   "cell_type": "code",
   "execution_count": 7,
   "metadata": {},
   "outputs": [],
   "source": [
    "from pytube import YouTube as yt"
   ]
  },
  {
   "cell_type": "code",
   "execution_count": 11,
   "metadata": {},
   "outputs": [],
   "source": [
    "import pytube"
   ]
  },
  {
   "cell_type": "code",
   "execution_count": 12,
   "metadata": {},
   "outputs": [
    {
     "data": {
      "text/plain": [
       "'12.1.2'"
      ]
     },
     "execution_count": 12,
     "metadata": {},
     "output_type": "execute_result"
    }
   ],
   "source": [
    "pytube.__version__"
   ]
  },
  {
   "cell_type": "code",
   "execution_count": 15,
   "metadata": {},
   "outputs": [],
   "source": [
    "directory_path = 'safe_videos/'\n",
    "# if not os.path.isdir(directory_path):\n",
    "#     os.mkdir(directory_path)\n",
    "for link in safe_videos:\n",
    "    video = yt(link)\n",
    "    #print(video.streams)"
   ]
  },
  {
   "cell_type": "code",
   "execution_count": 16,
   "metadata": {},
   "outputs": [],
   "source": [
    "# some issues with pytube, the code doesn't work"
   ]
  },
  {
   "cell_type": "code",
   "execution_count": null,
   "metadata": {},
   "outputs": [],
   "source": []
  }
 ],
 "metadata": {
  "kernelspec": {
   "display_name": "epilator",
   "language": "python",
   "name": "python3"
  },
  "language_info": {
   "codemirror_mode": {
    "name": "ipython",
    "version": 3
   },
   "file_extension": ".py",
   "mimetype": "text/x-python",
   "name": "python",
   "nbconvert_exporter": "python",
   "pygments_lexer": "ipython3",
   "version": "3.11.0"
  },
  "orig_nbformat": 4
 },
 "nbformat": 4,
 "nbformat_minor": 2
}
