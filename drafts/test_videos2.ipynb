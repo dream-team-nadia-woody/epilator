{
 "cells": [
  {
   "cell_type": "code",
   "execution_count": 1,
   "metadata": {},
   "outputs": [],
   "source": [
    "from video import hazard_detection as hd\n",
    "from importlib import reload\n",
    "from matplotlib.pyplot import plot\n",
    "import matplotlib.pyplot as plt\n",
    "import os\n",
    "import numpy as np \n",
    "from video.reader import VideoReader\n",
    "from video import videolike as vdl\n",
    "import cv2 as cv\n",
    "import acquire as ac"
   ]
  },
  {
   "cell_type": "code",
   "execution_count": 2,
   "metadata": {},
   "outputs": [],
   "source": [
    "directory1 = 'safe_videos/'\n",
    "directory2 = 'videos/'\n",
    "filenames1 = [directory1 + f for f in os.listdir('safe_videos') if os.path.isfile(os.path.join(directory1, f))]\n",
    "filenames2 = [directory2+ f for f in os.listdir('videos') if os.path.isfile(os.path.join(directory2, f))]\n",
    "filenames = filenames1 + filenames2\n",
    "del filenames1\n",
    "del filenames2"
   ]
  },
  {
   "cell_type": "code",
   "execution_count": 4,
   "metadata": {},
   "outputs": [
    {
     "name": "stdout",
     "output_type": "stream",
     "text": [
      "safe_videos/LION MENTALITY - Motivational Video.mp4\n",
      "[132, 133, 145, 146, 147, 150, 151, 152, 155, 156, 157, 160, 161, 162, 165, 166, 167, 74, 75, 80, 81, 82, 88, 89]\n",
      "safe_videos/Motivational short video - How to succeed - cartoon.mp4\n",
      "[17, 18, 21]\n",
      "safe_videos/I Will Guess Your Name In One Minute!.mp4\n",
      "[0, 1, 163]\n",
      "safe_videos/hitched - 2 Minute Short Film.mp4\n",
      "[]\n",
      "safe_videos/THE SEED  Inspirational Short Film.mp4\n",
      "[45, 46, 47, 48, 49, 50, 51, 52, 53, 54, 25, 26]\n",
      "safe_videos/Disney Pixar Piper - Music by lewisjackmusic.mp4\n",
      "[59, 110, 112, 113, 114, 58, 91, 157, 126, 127]\n",
      "safe_videos/10 DAKİKADA BAZLAMA🔊İSTER KAHVALTIDA🔝İSTER ÇAY SAATİNDE🔝İSTER YEMEK YANINDA YE✌️YOK BÖYLE YUMUŞAKLIK.mp4\n",
      "[]\n",
      "safe_videos/Funniest Cat Videos Compilation in 2 Minute.mp4\n",
      "[49, 50]\n",
      "safe_videos/Best Short Motivational Speech Video - 24 HOURS - 1-Minute Motivation 2.mp4\n",
      "[]\n",
      "safe_videos/Cute Minutes - Two Minutes Funny Puppy Videos Compilation 1  FeenZoo.mp4\n",
      "[]\n",
      "videos/Color Flash.mp4\n",
      "[0, 1, 2, 3, 4]\n",
      "videos/Paparazzi flashes.mp4\n",
      "[1, 2, 3, 4, 5, 6, 7, 12, 13]\n",
      "videos/Delete & Killshot - Disco Weapon [Epilepsy Warning].mp4\n",
      "[0, 1, 2, 3, 4, 14, 15, 22, 23, 24, 25, 26, 27, 28, 29, 32, 33, 34, 35, 36, 37, 38, 39, 40, 41, 42, 43, 44, 45, 46, 47, 48, 49, 50, 51, 52, 53, 54, 55, 56, 57, 58, 59, 61, 62, 63, 64, 65, 66, 68, 69, 70, 71, 72, 73, 74, 75, 76, 77, 78, 79, 80, 81, 82, 83, 84, 85, 86, 100, 101, 102, 103, 104, 105, 106, 107, 108, 109, 110, 111, 112, 113, 114, 115, 116, 117, 118, 119, 120, 121, 122, 123, 124, 125, 126, 127, 128, 130, 131, 134, 135, 136, 139, 140, 141, 142, 143, 144, 145, 146, 147, 148, 149, 150, 151, 152, 153, 154, 155, 156, 157, 158, 159, 160, 161, 162, 163, 164, 165, 166, 167, 168, 169, 174, 175, 176, 177, 178, 179, 180, 181, 182, 183, 184, 185, 186, 187, 188, 189, 190, 191, 192, 193, 194, 195, 196, 197, 198, 199, 200, 201, 202, 203, 204, 205, 206, 208, 209, 210, 211, 212, 213, 214, 215, 216, 217, 218, 219, 220, 221, 222, 223, 224, 225, 226, 227, 228, 229, 230, 231, 232, 233]\n",
      "videos/Blue Green Flash.mp4\n",
      "[0, 1, 2, 3, 4]\n",
      "videos/little hens and dog.mp4\n",
      "[]\n",
      "videos/Red Spin.mp4\n",
      "[0, 1, 2, 3, 4, 5, 6, 7, 8, 9]\n",
      "videos/Banned Pokemon Seizure Scene.mp4\n",
      "[13, 14, 15, 16, 17, 18, 19, 21, 22, 23, 24, 25]\n",
      "videos/Superman 80th Anniversary Animated Short  @dckids.mp4\n",
      "[97, 98, 102, 103, 104, 48, 92, 95]\n",
      "videos/Car flips over bridge following police pursuit.mp4\n",
      "[]\n",
      "videos/Top 10 Dangerous Lightning Strikes Thunder recorded on Camera (HIGH VOLTAGE!!).mp4\n",
      "[1, 2, 6, 7, 8, 10, 11, 12, 13, 14, 25, 28, 29, 30, 31]\n",
      "videos/MASSIVE gas factory explosion caught on camera!!.mp4\n",
      "[]\n",
      "videos/Plant explosion caught on camera.mp4\n",
      "[13, 14]\n",
      "videos/Black White Flash.mp4\n",
      "[0, 1, 2, 3, 4, 5, 6, 7, 8, 9]\n",
      "videos/Blue Green Fade.mp4\n",
      "[0, 1, 2, 3, 4, 5, 6, 7, 8, 9, 10, 11, 12, 13, 14, 15, 16, 17, 21, 22, 23, 24, 25]\n",
      "videos/W I L T Short Art Film by Anthony Petano  EPILEPSY WARNING.mp4\n",
      "[0, 1, 2, 3, 4, 5, 6, 7, 8, 9, 10, 11, 12, 13, 14, 15, 16, 17, 18, 19, 20, 21, 22, 23, 24, 25, 26, 27, 28, 29, 30, 31, 32, 33, 34, 35, 36, 37, 38, 39, 40, 41, 42, 43, 44, 45, 46, 47, 48, 49, 50, 51, 52, 53, 54, 55, 56, 57, 58, 59, 60, 61, 62, 63]\n",
      "videos/Clutrrglych - •Ô•‘ [OFFICIAL MUSIC VIDEO] [PHOTOSENSITIVE EPILEPSY WARNING].mp4\n",
      "[3, 4, 6, 7, 8, 9, 10, 12, 13, 14, 15, 16, 18, 19, 20, 21, 22, 24, 25, 26, 27, 28, 29, 30, 31, 32, 33, 34, 35, 36, 37, 39, 40, 41, 42, 43, 44, 45, 46, 48, 49, 51, 52, 53, 54, 55, 56, 57, 58, 59, 60, 61, 63, 64, 65, 66, 67, 68, 69, 70, 72, 73, 75, 76, 78, 79, 80, 81, 82, 84, 85, 86, 87, 88, 90, 91, 92, 93, 94, 96, 97, 98, 99, 100, 101, 102, 103, 104, 105, 106, 108, 109, 110, 111, 112, 114, 115, 116, 117, 118, 120, 121, 122, 123, 124, 126, 127, 128, 129, 130, 132, 133, 134, 135, 136, 138, 139, 140, 141, 142, 144, 145, 146, 147, 148, 149, 150, 155, 156, 157, 158, 160, 163, 164, 167, 168, 172, 173, 174, 179, 180, 181, 182, 184, 187, 188, 191, 192]\n",
      "videos/video to induce seizures.mp4\n",
      "[0, 1, 2, 3, 4, 5, 6, 7, 8, 9, 10, 11, 12, 13, 14, 15, 16, 20, 21, 22, 23, 24, 25, 26, 27, 28, 29, 30, 32, 33, 34, 35, 36, 39, 40, 41, 42, 43, 44, 45, 46, 47, 48, 49, 50, 51, 52, 53, 54, 55, 56, 57, 58, 59, 60, 61, 62, 63, 64, 65, 66, 67, 68, 69, 70, 71, 72, 73, 74, 75, 76, 77, 78, 79]\n",
      "videos/Color Fade.mp4\n",
      "[]\n",
      "videos/[Epilepsy Warning]  Royal & The Serpent - Overwhelmed  Fan Music Video.mp4\n",
      "[89, 90, 74, 16, 113, 83, 88, 25, 26]\n",
      "videos/Learn A To Z Insects For Kindergarten  A to Z  Learning Video  A To Z Reading  The Little Lumen.mp4\n",
      "[]\n"
     ]
    }
   ],
   "source": [
    "# threshold 0.02\n",
    "for f in filenames:\n",
    "    print(f)\n",
    "    print(hd.run_lightness_test(f))"
   ]
  },
  {
   "cell_type": "code",
   "execution_count": 5,
   "metadata": {},
   "outputs": [
    {
     "data": {
      "text/plain": [
       "<module 'video.hazard_detection' from '/Users/nadina/Documents/codeup/epilator/video/hazard_detection.py'>"
      ]
     },
     "execution_count": 5,
     "metadata": {},
     "output_type": "execute_result"
    }
   ],
   "source": [
    "reload(hd)"
   ]
  },
  {
   "cell_type": "code",
   "execution_count": 6,
   "metadata": {},
   "outputs": [
    {
     "name": "stdout",
     "output_type": "stream",
     "text": [
      "safe_videos/LION MENTALITY - Motivational Video.mp4\n",
      "[160, 161, 132, 150, 151, 152, 155, 156, 157]\n",
      "safe_videos/Motivational short video - How to succeed - cartoon.mp4\n",
      "[]\n",
      "safe_videos/I Will Guess Your Name In One Minute!.mp4\n",
      "[0, 1, 163]\n",
      "safe_videos/hitched - 2 Minute Short Film.mp4\n",
      "[]\n",
      "safe_videos/THE SEED  Inspirational Short Film.mp4\n",
      "[45, 46, 47, 49, 50, 51, 52, 53, 54]\n",
      "safe_videos/Disney Pixar Piper - Music by lewisjackmusic.mp4\n",
      "[]\n",
      "safe_videos/10 DAKİKADA BAZLAMA🔊İSTER KAHVALTIDA🔝İSTER ÇAY SAATİNDE🔝İSTER YEMEK YANINDA YE✌️YOK BÖYLE YUMUŞAKLIK.mp4\n",
      "[]\n",
      "safe_videos/Funniest Cat Videos Compilation in 2 Minute.mp4\n",
      "[]\n",
      "safe_videos/Best Short Motivational Speech Video - 24 HOURS - 1-Minute Motivation 2.mp4\n",
      "[]\n",
      "safe_videos/Cute Minutes - Two Minutes Funny Puppy Videos Compilation 1  FeenZoo.mp4\n",
      "[]\n",
      "videos/Color Flash.mp4\n",
      "[0, 1, 2, 3, 4]\n",
      "videos/Paparazzi flashes.mp4\n",
      "[3, 4, 5, 6, 7, 12]\n",
      "videos/Delete & Killshot - Disco Weapon [Epilepsy Warning].mp4\n",
      "[0, 1, 2, 3, 4, 14, 15, 25, 26, 27, 28, 29, 32, 33, 34, 35, 36, 37, 38, 39, 40, 41, 42, 43, 44, 45, 46, 47, 48, 49, 50, 51, 52, 53, 54, 55, 61, 62, 63, 64, 65, 66, 68, 69, 70, 71, 72, 73, 74, 75, 76, 77, 78, 79, 80, 81, 82, 83, 84, 85, 86, 100, 101, 102, 103, 104, 105, 106, 107, 108, 109, 110, 111, 114, 115, 117, 118, 119, 120, 121, 122, 123, 124, 125, 126, 127, 128, 130, 131, 135, 136, 139, 140, 141, 142, 143, 144, 145, 146, 147, 148, 149, 150, 151, 152, 153, 154, 155, 156, 157, 158, 159, 160, 162, 163, 164, 165, 166, 167, 168, 169, 176, 177, 178, 179, 180, 181, 182, 183, 184, 185, 186, 187, 188, 189, 190, 191, 192, 193, 194, 195, 196, 199, 200, 201, 202, 203, 204, 205, 206, 208, 209, 210, 211, 212, 213, 214, 215, 216, 217, 218, 219, 220, 221, 222, 223, 224, 225, 226, 227, 228, 229, 230, 231, 232, 233]\n",
      "videos/Blue Green Flash.mp4\n",
      "[0, 1, 2, 3, 4]\n",
      "videos/little hens and dog.mp4\n",
      "[]\n",
      "videos/Red Spin.mp4\n",
      "[0, 1, 2, 3, 4, 5, 6, 7, 8, 9]\n",
      "videos/Banned Pokemon Seizure Scene.mp4\n",
      "[13, 14, 15, 16, 18, 19, 23, 24, 25]\n",
      "videos/Superman 80th Anniversary Animated Short  @dckids.mp4\n",
      "[92, 95]\n",
      "videos/Car flips over bridge following police pursuit.mp4\n",
      "[]\n",
      "videos/Top 10 Dangerous Lightning Strikes Thunder recorded on Camera (HIGH VOLTAGE!!).mp4\n",
      "[6, 7, 8, 12, 13, 14, 28, 29, 31]\n",
      "videos/MASSIVE gas factory explosion caught on camera!!.mp4\n",
      "[]\n",
      "videos/Plant explosion caught on camera.mp4\n",
      "[13, 14]\n",
      "videos/Black White Flash.mp4\n",
      "[0, 1, 2, 3, 4, 5, 6, 7, 8, 9]\n",
      "videos/Blue Green Fade.mp4\n",
      "[0, 1, 2, 3, 4, 5, 6, 7, 8, 9, 10, 11, 12, 13, 14, 15, 16, 17, 21, 22, 23, 24, 25]\n",
      "videos/W I L T Short Art Film by Anthony Petano  EPILEPSY WARNING.mp4\n",
      "[0, 1, 2, 3, 4, 5, 6, 7, 8, 9, 10, 11, 12, 14, 15, 16, 18, 19, 21, 22, 23, 24, 25, 26, 27, 28, 29, 30, 31, 32, 33, 37, 38, 39, 41, 42, 43, 44, 45, 46, 47, 48, 49, 50, 51, 52, 53, 54, 55, 56, 57, 58, 59, 60, 61, 62, 63]\n",
      "videos/Clutrrglych - •Ô•‘ [OFFICIAL MUSIC VIDEO] [PHOTOSENSITIVE EPILEPSY WARNING].mp4\n",
      "[3, 4, 5, 6, 7, 8, 9, 10, 11, 12, 13, 14, 15, 18, 19, 20, 21, 22, 24, 25, 26, 27, 28, 29, 30, 31, 32, 33, 39, 40, 41, 42, 43, 44, 45, 46, 47, 48, 49, 51, 52, 53, 54, 55, 56, 57, 63, 64, 65, 66, 67, 68, 69, 70, 71, 72, 73, 78, 79, 80, 81, 82, 84, 85, 86, 87, 90, 91, 92, 93, 94, 96, 97, 98, 99, 100, 101, 105, 106, 108, 109, 110, 111, 114, 115, 116, 117, 118, 120, 121, 122, 123, 126, 127, 128, 129, 130, 132, 133, 134, 135, 138, 139, 140, 141, 142, 144, 145, 146, 147, 148, 149, 155, 156, 157, 158, 160, 161, 172, 173, 179, 180, 181, 182, 184, 185]\n",
      "videos/video to induce seizures.mp4\n",
      "[0, 1, 2, 3, 4, 5, 6, 7, 8, 9, 10, 11, 13, 20, 21, 22, 23, 24, 25, 26, 27, 28, 29, 30, 33, 34, 35, 36, 44, 45, 46, 47, 48, 53, 54, 55, 56, 57, 62, 63, 64, 65, 66, 67, 68, 69, 70, 71, 78, 79]\n",
      "videos/Color Fade.mp4\n",
      "[]\n",
      "videos/[Epilepsy Warning]  Royal & The Serpent - Overwhelmed  Fan Music Video.mp4\n",
      "[88, 89]\n",
      "videos/Learn A To Z Insects For Kindergarten  A to Z  Learning Video  A To Z Reading  The Little Lumen.mp4\n",
      "[]\n"
     ]
    }
   ],
   "source": [
    "#threshold 0.05\n",
    "for f in filenames:\n",
    "    print(f)\n",
    "    print(hd.run_lightness_test(f, threshold=0.05))"
   ]
  },
  {
   "cell_type": "code",
   "execution_count": null,
   "metadata": {},
   "outputs": [],
   "source": []
  }
 ],
 "metadata": {
  "kernelspec": {
   "display_name": "epilator",
   "language": "python",
   "name": "python3"
  },
  "language_info": {
   "codemirror_mode": {
    "name": "ipython",
    "version": 3
   },
   "file_extension": ".py",
   "mimetype": "text/x-python",
   "name": "python",
   "nbconvert_exporter": "python",
   "pygments_lexer": "ipython3",
   "version": "3.11.0"
  },
  "orig_nbformat": 4
 },
 "nbformat": 4,
 "nbformat_minor": 2
}
