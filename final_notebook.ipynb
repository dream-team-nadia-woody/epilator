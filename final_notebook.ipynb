{
 "cells": [
  {
   "cell_type": "markdown",
   "metadata": {},
   "source": [
    "## Epileplsy triggers detection"
   ]
  },
  {
   "cell_type": "markdown",
   "metadata": {},
   "source": [
    "On December 16th, 1997, an episode of the wildly popular Pokémon anime had its premier broadcast in Japan. Roughly 20 minutes into the episode, titled \"Dennō Senshi Porigon\" (which roughly translates to \"Cyber Soldier Porygon\"), a sequence of flashing red and blue frames would cause huge problems for the show's many fans. In all, around 600-700 children required ambulances. While most recovered en route to the hospital, many more complained of headaches, eye strain, nausea and vomiting, and even, in rare cases, convulsions and even seizures. The event, later branded as \"Pokémon Shock, would cause Nintendo's stock to drop 5%, the episode to be withdrawn from circulation, and legislation to be passed prohibiting such imagery from being broadcast in Japan, with similar legislation passing in the UK. While no similar legislation has been introduced in the United States, given the noteriety of the incident mentioned above, it seems highly unlikely that any companies would risk including such imagery.\n",
    "\n",
    "However, in the age of user-generated content, those with photosensitivity or photosensitive epilepsy face an ever-growing pool of unregulated information. While tools do exist to help creators"
   ]
  },
  {
   "cell_type": "markdown",
   "metadata": {},
   "source": [
    "<div class=“alert alert-success”>\n",
    "\n",
    "<h2 style=\"color:#2596be;\">Project's Description</h1> "
   ]
  },
  {
   "cell_type": "markdown",
   "metadata": {},
   "source": [
    "Our aim is to create a function that can identify potential hazards with flashing lights in a video file with an `\\*.mp4` format. This function returns a list of seconds that contain potential hazard with flashing lights. \n",
    "\n",
    "To achieve this, we gathered videos that have been tagged with epilepsy warnings.  In addition to labeled videos we downloaded videos with explosions, lightning, and police car chases as \"hidden hazard videos\". We decided to include these videos in our project after reading an article about the impact of flashing lights on viewers in [this blog](https://veroniiiica.com/how-to-check-videos-for-flashing-lights/). Finally, we added a few videos to our collection featuring flashing lights (which can be hazardous) and fading lights (which are not hazardous) to enhance our collection.\n",
    "\n",
    "Our team agreed that flashing lights would be deemed dangerous if they occur more than three times per second and less than fifty-five times per second based on information from the following sources:\n",
    "- [Web accessibility for seizures and physical reactions](https://developer.mozilla.org/en-US/docs/Web/Accessibility/Seizure_disorders#flashing_blinking_flickering)\n",
    "- [Section508.gov](https://www.section508.gov/content/guide-accessible-web-design-development/#flashing)\n",
    "\n",
    "Our current project is able to detect flashes that occur across the entire screen. However, if the video has flashes that are limited to certain areas of the screen, our program may not be able to detect them."
   ]
  },
  {
   "cell_type": "code",
   "execution_count": 2,
   "metadata": {},
   "outputs": [],
   "source": [
    "#imports"
   ]
  },
  {
   "cell_type": "markdown",
   "metadata": {},
   "source": [
    "<h3 style=\"color:#2596be;\">Acquire and Prepare</h3> "
   ]
  },
  {
   "cell_type": "markdown",
   "metadata": {},
   "source": [
    "In order to get the same videos that we use in our project run the file `acquire.py`. It will download videos from YouTube and create genereted videos on you computer in the folder `'videos/'`. YouTube might ask you to confirm your account.\n",
    "\n",
    "__Download__\n",
    "\n",
    "We downloaded videos from YouTube using `pytube` package. If you would like to download the single video you can use the function `download_video` from the `acquire.py` file.\n",
    "\n",
    "__Generate__\n",
    "To get the generated videos use `generate_videos` function from `generator.py` file. "
   ]
  },
  {
   "cell_type": "markdown",
   "metadata": {},
   "source": [
    "<h3 style=\"color:#2596be;\">Data Exploration</h3> "
   ]
  },
  {
   "cell_type": "code",
   "execution_count": null,
   "metadata": {},
   "outputs": [],
   "source": []
  },
  {
   "cell_type": "code",
   "execution_count": null,
   "metadata": {},
   "outputs": [],
   "source": []
  },
  {
   "cell_type": "markdown",
   "metadata": {},
   "source": [
    "<h3 style=\"color:#2596be;\">Data Exploration Takeaways</h3> "
   ]
  },
  {
   "cell_type": "code",
   "execution_count": null,
   "metadata": {},
   "outputs": [],
   "source": []
  },
  {
   "cell_type": "code",
   "execution_count": null,
   "metadata": {},
   "outputs": [],
   "source": []
  },
  {
   "cell_type": "markdown",
   "metadata": {},
   "source": [
    "<h3 style=\"color:#2596be;\">Triggers Detection</h3> "
   ]
  },
  {
   "cell_type": "code",
   "execution_count": null,
   "metadata": {},
   "outputs": [],
   "source": []
  },
  {
   "cell_type": "code",
   "execution_count": null,
   "metadata": {},
   "outputs": [],
   "source": []
  },
  {
   "cell_type": "code",
   "execution_count": null,
   "metadata": {},
   "outputs": [],
   "source": []
  },
  {
   "cell_type": "markdown",
   "metadata": {},
   "source": [
    "<h3 style=\"color:#2596be;\">Conclusions</h3> "
   ]
  },
  {
   "cell_type": "code",
   "execution_count": null,
   "metadata": {},
   "outputs": [],
   "source": []
  },
  {
   "cell_type": "code",
   "execution_count": null,
   "metadata": {},
   "outputs": [],
   "source": []
  },
  {
   "cell_type": "code",
   "execution_count": null,
   "metadata": {},
   "outputs": [],
   "source": []
  }
 ],
 "metadata": {
  "kernelspec": {
   "display_name": "Python 3 (ipykernel)",
   "language": "python",
   "name": "python3"
  },
  "language_info": {
   "codemirror_mode": {
    "name": "ipython",
    "version": 3
   },
   "file_extension": ".py",
   "mimetype": "text/x-python",
   "name": "python",
   "nbconvert_exporter": "python",
   "pygments_lexer": "ipython3",
   "version": "3.10.9"
  }
 },
 "nbformat": 4,
 "nbformat_minor": 2
}
