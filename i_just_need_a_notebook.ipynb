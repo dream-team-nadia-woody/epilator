{
 "cells": [
  {
   "cell_type": "code",
   "execution_count": null,
   "metadata": {},
   "outputs": [],
   "source": [
    "import numpy as np\n",
    "import pandas as pd\n",
    "import seaborn as sns\n",
    "import matplotlib.pyplot as plt\n",
    "from importlib import reload\n",
    "import warnings\n",
    "from scipy import signal\n",
    "from video import vid as v, videolike as vl,conversion as c\n",
    "warnings.simplefilter(\"ignore\")\n",
    "import cv2 as cv\n",
    "%matplotlib inline\n",
    "%config InlineBackend.figure_format = 'retina'"
   ]
  },
  {
   "cell_type": "code",
   "execution_count": null,
   "metadata": {},
   "outputs": [],
   "source": [
    "reload(v)\n",
    "reload(vl)\n",
    "avid = v.Video.from_file('videos/Banned Pokemon Seizure Scene.mp4',c.Conversions.HSV)\n",
    "avid.mask('value')[450:500].show()"
   ]
  }
 ],
 "metadata": {
  "kernelspec": {
   "display_name": "epilator",
   "language": "python",
   "name": "python3"
  },
  "language_info": {
   "codemirror_mode": {
    "name": "ipython",
    "version": 3
   },
   "file_extension": ".py",
   "mimetype": "text/x-python",
   "name": "python",
   "nbconvert_exporter": "python",
   "pygments_lexer": "ipython3",
   "version": "3.11.0"
  },
  "orig_nbformat": 4
 },
 "nbformat": 4,
 "nbformat_minor": 2
}
