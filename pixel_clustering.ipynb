{
 "cells": [
  {
   "cell_type": "code",
   "execution_count": null,
   "metadata": {},
   "outputs": [],
   "source": [
    "import base64\n",
    "from sklearnex import patch_sklearn\n",
    "from importlib import reload\n",
    "\n",
    "import cv2 as cv\n",
    "import ipywidgets as widgets\n",
    "import matplotlib.pyplot as plt\n",
    "import numpy as np\n",
    "from IPython.display import display\n",
    "from PIL import Image\n",
    "patch_sklearn()\n",
    "from sklearn.cluster import DBSCAN, KMeans\n",
    "from sklearn.preprocessing import MinMaxScaler\n",
    "\n",
    "from video import vid as v\n",
    "from video import videolike as vl\n",
    "from video.conversion import Conversions"
   ]
  },
  {
   "cell_type": "code",
   "execution_count": 2,
   "metadata": {},
   "outputs": [],
   "source": [
    "reload(vl)\n",
    "reload(v)\n",
    "resize = (100,100)\n",
    "pokemon = v.Video.from_file('videos/Banned Pokemon Seizure Scene.mp4',Conversions.RGB,resize=resize)\n",
    "pokevid = pokemon.blur(3).vid"
   ]
  },
  {
   "cell_type": "code",
   "execution_count": 3,
   "metadata": {},
   "outputs": [],
   "source": [
    "pokeflat = pokevid.reshape((-1,3))\n",
    "\n",
    "num_pixels = pokeflat.shape[0]\n",
    "num_frames = pokevid.shape[0]\n",
    "width = pokevid.shape[2]\n",
    "height = pokevid.shape[1]\n",
    "frame_xy_positions = np.zeros((num_pixels, 3), dtype=np.int32)\n",
    "\n",
    "frame_num, y, x = np.indices((num_frames, height, width))\n",
    "frame_xy_positions[:, 0] = frame_num.ravel()\n",
    "frame_xy_positions[:, 1] = y.ravel()\n",
    "frame_xy_positions[:, 2] = x.ravel()\n",
    "pokedata = np.concatenate([pokeflat,frame_xy_positions],axis=1)\n",
    "pokedata = MinMaxScaler().fit_transform(pokedata)"
   ]
  },
  {
   "cell_type": "code",
   "execution_count": 4,
   "metadata": {},
   "outputs": [
    {
     "ename": "",
     "evalue": "",
     "output_type": "error",
     "traceback": [
      "\u001b[1;31mCanceled future for execute_request message before replies were done"
     ]
    },
    {
     "ename": "",
     "evalue": "",
     "output_type": "error",
     "traceback": [
      "\u001b[1;31mThe Kernel crashed while executing code in the the current cell or a previous cell. Please review the code in the cell(s) to identify a possible cause of the failure. Click <a href='https://aka.ms/vscodeJupyterKernelCrash'>here</a> for more info. View Jupyter <a href='command:jupyter.viewOutput'>log</a> for further details."
     ]
    }
   ],
   "source": [
    "dbscan = DBSCAN(eps=0.1,min_samples=20,n_jobs=4)\n",
    "dbclusters = dbscan.fit_predict(pokedata)"
   ]
  },
  {
   "cell_type": "code",
   "execution_count": null,
   "metadata": {},
   "outputs": [],
   "source": [
    "dbclusters = dbclusters.reshape((num_frames,height,width,-1))"
   ]
  },
  {
   "cell_type": "code",
   "execution_count": null,
   "metadata": {},
   "outputs": [],
   "source": [
    "kmin = 2\n",
    "kmax = 10\n",
    "inertias = [KMeans(n_clusters=k,n_init=10).fit(pokedata).inertia_ for k in range(kmin,kmax)]\n"
   ]
  },
  {
   "cell_type": "code",
   "execution_count": null,
   "metadata": {},
   "outputs": [
    {
     "data": {
      "text/plain": [
       "[<matplotlib.lines.Line2D at 0x1970f3490>]"
      ]
     },
     "execution_count": 36,
     "metadata": {},
     "output_type": "execute_result"
    },
    {
     "data": {
      "image/png": "[encoded data removed]",
      "text/plain": [
       "<Figure size 640x480 with 1 Axes>"
      ]
     },
     "metadata": {},
     "output_type": "display_data"
    }
   ],
   "source": [
    "plt.plot(range(kmin,kmax),inertias,'x')\n",
    "\n"
   ]
  },
  {
   "cell_type": "code",
   "execution_count": null,
   "metadata": {},
   "outputs": [],
   "source": [
    "kmeans = KMeans(n_clusters=6,n_init='auto').fit(pokedata)\n",
    "kclusters = kmeans.predict(pokedata)\n",
    "kclusters = kclusters.reshape((pokevid.shape[0],pokevid.shape[1],pokevid.shape[2],1))"
   ]
  },
  {
   "cell_type": "code",
   "execution_count": null,
   "metadata": {},
   "outputs": [
    {
     "data": {
      "application/vnd.jupyter.widget-view+json": {
       "model_id": "c93c1d25732c4b81b69d31e33a259065",
       "version_major": 2,
       "version_minor": 0
      },
      "text/plain": [
       "interactive(children=(IntSlider(value=0, continuous_update=False, description='frame', max=784), Output()), _d…"
      ]
     },
     "metadata": {},
     "output_type": "display_data"
    },
    {
     "data": {
      "text/plain": [
       "<function __main__.update_frame(frame)>"
      ]
     },
     "execution_count": 43,
     "metadata": {},
     "output_type": "execute_result"
    }
   ],
   "source": [
    "def update_frame(frame):\n",
    "    plt.axis('off')\n",
    "    plt.subplot(1,3,1)\n",
    "    plt.title(\"Original Video\")\n",
    "    plt.imshow(pokevid[frame])\n",
    "    plt.subplot(1,3,2)\n",
    "    plt.title(\"DBSCAN Clusters\")\n",
    "    plt.imshow(dbclusters[frame],cmap='jet')\n",
    "    plt.subplot(1,3,3)\n",
    "    plt.title(\"KMeans Clusters\")\n",
    "    plt.imshow(kclusters[frame],cmap='jet')\n",
    "    plt.show()\n",
    "frame_slider = widgets.IntSlider(min=0, max=pokevid.shape[0]-1, step=1, value=0,continuous_update=False)\n",
    "widgets.interact(update_frame,frame=frame_slider)"
   ]
  }
 ],
 "metadata": {
  "kernelspec": {
   "display_name": "epilator",
   "language": "python",
   "name": "python3"
  },
  "language_info": {
   "codemirror_mode": {
    "name": "ipython",
    "version": 3
   },
   "file_extension": ".py",
   "mimetype": "text/x-python",
   "name": "python",
   "nbconvert_exporter": "python",
   "pygments_lexer": "ipython3",
   "version": "3.11.0"
  },
  "orig_nbformat": 4
 },
 "nbformat": 4,
 "nbformat_minor": 2
}
