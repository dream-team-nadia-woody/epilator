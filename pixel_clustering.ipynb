{
 "cells": [
  {
   "cell_type": "code",
   "execution_count": 1,
   "metadata": {},
   "outputs": [],
   "source": [
    "import numpy as np\n",
    "from sklearn.cluster import DBSCAN,KMeans\n",
    "from video import videolike as vl, vid as v\n",
    "from video.conversion import Conversions\n",
    "import matplotlib.pyplot as plt\n",
    "import ipywidgets as widgets\n",
    "from PIL import Image\n",
    "from IPython.display import display\n",
    "import base64\n",
    "import cv2 as cv\n",
    "from importlib import reload"
   ]
  },
  {
   "cell_type": "code",
   "execution_count": 3,
   "metadata": {},
   "outputs": [],
   "source": [
    "reload(vl)\n",
    "reload(v)\n",
    "resize = (100,100)\n",
    "pokemon = v.Video.from_file('videos/Banned Pokemon Seizure Scene.mp4',Conversions.RGB,resize=resize)\n",
    "pokevid = pokemon[300:500].blur((5,5)).vid"
   ]
  },
  {
   "cell_type": "code",
   "execution_count": 4,
   "metadata": {},
   "outputs": [],
   "source": [
    "pokeflat = pokevid.reshape((-1,3))\n",
    "\n",
    "num_pixels = pokeflat.shape[0]\n",
    "num_frames = pokevid.shape[0]\n",
    "width = pokevid.shape[2]\n",
    "height = pokevid.shape[1]\n",
    "frame_xy_positions = np.zeros((num_pixels, 3), dtype=np.int32)\n",
    "\n",
    "frame_num, y, x = np.indices((num_frames, height, width))\n",
    "frame_xy_positions[:, 0] = frame_num.ravel()\n",
    "frame_xy_positions[:, 1] = y.ravel()\n",
    "frame_xy_positions[:, 2] = x.ravel()\n",
    "pokedata = np.concatenate([pokeflat,frame_xy_positions],axis=1)\n"
   ]
  },
  {
   "cell_type": "code",
   "execution_count": 16,
   "metadata": {},
   "outputs": [],
   "source": [
    "dbscan = DBSCAN(eps=5,min_samples=30,n_jobs=2)\n",
    "clusters = dbscan.fit_predict(pokedata)\n"
   ]
  },
  {
   "cell_type": "code",
   "execution_count": 14,
   "metadata": {},
   "outputs": [
    {
     "data": {
      "text/plain": [
       "1859"
      ]
     },
     "execution_count": 14,
     "metadata": {},
     "output_type": "execute_result"
    }
   ],
   "source": [
    "clusters = clusters.reshape((pokevid.shape[0],pokevid.shape[1],pokevid.shape[2],1))\n",
    "clusters.max()"
   ]
  },
  {
   "cell_type": "code",
   "execution_count": 15,
   "metadata": {},
   "outputs": [
    {
     "data": {
      "application/vnd.jupyter.widget-view+json": {
       "model_id": "9f333bd5c24144b486e6632187949cdf",
       "version_major": 2,
       "version_minor": 0
      },
      "text/plain": [
       "interactive(children=(IntSlider(value=0, continuous_update=False, description='frame', max=199), Output()), _d…"
      ]
     },
     "metadata": {},
     "output_type": "display_data"
    },
    {
     "data": {
      "text/plain": [
       "<function __main__.update_frame(frame)>"
      ]
     },
     "execution_count": 15,
     "metadata": {},
     "output_type": "execute_result"
    }
   ],
   "source": [
    "def update_frame(frame):\n",
    "    plt.axis('off')\n",
    "    plt.subplot(1,2,1)\n",
    "    plt.imshow(pokevid[frame])\n",
    "    plt.subplot(1,2,2)\n",
    "    plt.imshow(clusters[frame],cmap='gray')\n",
    "    plt.show()\n",
    "frame_slider = widgets.IntSlider(min=0, max=pokevid.shape[0]-1, step=1, value=0,continuous_update=False)\n",
    "widgets.interact(update_frame,frame=frame_slider)"
   ]
  },
  {
   "attachments": {},
   "cell_type": "markdown",
   "metadata": {},
   "source": [
    "## Trying with opencv scansegment"
   ]
  }
 ],
 "metadata": {
  "kernelspec": {
   "display_name": "epilator",
   "language": "python",
   "name": "python3"
  },
  "language_info": {
   "codemirror_mode": {
    "name": "ipython",
    "version": 3
   },
   "file_extension": ".py",
   "mimetype": "text/x-python",
   "name": "python",
   "nbconvert_exporter": "python",
   "pygments_lexer": "ipython3",
   "version": "3.11.0"
  },
  "orig_nbformat": 4
 },
 "nbformat": 4,
 "nbformat_minor": 2
}
