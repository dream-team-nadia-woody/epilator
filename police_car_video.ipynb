{
 "cells": [
  {
   "attachments": {},
   "cell_type": "markdown",
   "metadata": {},
   "source": [
    "In this file, I'll try to analize the video with hidden epilepsy hazard - police flshing lights."
   ]
  },
  {
   "cell_type": "code",
   "execution_count": 1,
   "metadata": {},
   "outputs": [],
   "source": [
    "import numpy as np\n",
    "import pandas as pd\n",
    "import matplotlib.pyplot as plt \n",
    "import seaborn as sns\n",
    "import cv2 as cv\n",
    "\n",
    "import downloader as d \n",
    "import video as v\n",
    "\n",
    "from typing import Tuple, Union\n",
    "from numpy.typing import NDArray\n",
    "from dataclasses import dataclass\n",
    "from collections import deque\n",
    "\n",
    "from importlib import reload"
   ]
  },
  {
   "cell_type": "code",
   "execution_count": 2,
   "metadata": {},
   "outputs": [],
   "source": [
    "def get_video(path: str) -> Tuple[NDArray, int]:\n",
    "    vid = cv.VideoCapture(path)\n",
    "    fps = vid.get(cv.CAP_PROP_FPS)\n",
    "    #video = np.fromiter(vid, np.ndarray)\n",
    "    frames = []\n",
    "    ret = True\n",
    "    while ret:\n",
    "        ret, img = vid.read() # read one frame from the 'capture' object; img is (H, W, C)\n",
    "        if ret:\n",
    "            frames.append(img)\n",
    "    # dimensions (T, H, W, C)\n",
    "    return np.stack(frames, axis=0), int(round(fps))\n",
    "\n",
    "def get_vid_df(path: str) -> pd.DataFrame:\n",
    "    vid,fps = get_video(path)\n",
    "    frames = vid.shape[0]\n",
    "    height = vid.shape[1]\n",
    "    width = vid.shape[2]\n",
    "    df = pd.DataFrame(vid.reshape((-1,3)))\n",
    "    df['frame'] = df.index // (width * height)\n",
    "    df['x'] = df.index % width\n",
    "    df['y'] = df.index // width % height\n",
    "    df['second'] = df.frame // fps\n",
    "    df = df.set_index(['frame','y','x']).rename(columns={\n",
    "        0:'hue',\n",
    "        1:'lightness',\n",
    "        2:'saturation',\n",
    "    })\n",
    "    df.attrs['fps'] = fps\n",
    "    return df"
   ]
  },
  {
   "cell_type": "code",
   "execution_count": 3,
   "metadata": {},
   "outputs": [],
   "source": [
    "path = 'videos/Car flips over bridge following police pursuit.mp4'"
   ]
  },
  {
   "cell_type": "code",
   "execution_count": 4,
   "metadata": {},
   "outputs": [],
   "source": [
    "df = get_vid_df(path)"
   ]
  },
  {
   "cell_type": "code",
   "execution_count": null,
   "metadata": {},
   "outputs": [],
   "source": []
  }
 ],
 "metadata": {
  "kernelspec": {
   "display_name": "base",
   "language": "python",
   "name": "python3"
  },
  "language_info": {
   "codemirror_mode": {
    "name": "ipython",
    "version": 3
   },
   "file_extension": ".py",
   "mimetype": "text/x-python",
   "name": "python",
   "nbconvert_exporter": "python",
   "pygments_lexer": "ipython3",
   "version": "3.9.12"
  },
  "orig_nbformat": 4
 },
 "nbformat": 4,
 "nbformat_minor": 2
}
