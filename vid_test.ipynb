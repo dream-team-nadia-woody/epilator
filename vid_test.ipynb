{
 "cells": [
  {
   "cell_type": "code",
   "execution_count": null,
   "metadata": {},
   "outputs": [],
   "source": [
    "from video import df, display, generator, reader, vid\n",
    "import numpy as np\n",
    "from importlib import reload\n",
    "from cv2 import inRange\n",
    "import matplotlib.pyplot as plt\n"
   ]
  },
  {
   "cell_type": "code",
   "execution_count": null,
   "metadata": {},
   "outputs": [
    {
     "ename": "NameError",
     "evalue": "name 'reload' is not defined",
     "output_type": "error",
     "traceback": [
      "\u001b[0;31m---------------------------------------------------------------------------\u001b[0m",
      "\u001b[0;31mNameError\u001b[0m                                 Traceback (most recent call last)",
      "Cell \u001b[0;32mIn[4], line 1\u001b[0m\n\u001b[0;32m----> 1\u001b[0m reload(v)\n\u001b[1;32m      2\u001b[0m path \u001b[39m=\u001b[39m \u001b[39m'\u001b[39m\u001b[39mvideos/Banned Pokemon Seizure Scene.mp4\u001b[39m\u001b[39m'\u001b[39m\n\u001b[1;32m      3\u001b[0m vid \u001b[39m=\u001b[39m v\u001b[39m.\u001b[39mVideo\u001b[39m.\u001b[39mfrom_file(path)\n",
      "\u001b[0;31mNameError\u001b[0m: name 'reload' is not defined"
     ]
    }
   ],
   "source": [
    "reload(v)\n",
    "path = 'videos/Banned Pokemon Seizure Scene.mp4'\n",
    "vid = v.Video.from_file(path)\n",
    "vid_2,_ = v.VideoReader.get_vid(path)\n",
    "vid_df = v.get_vid_df(vid_2)\n",
    "fig,axs = plt.subplots(2,1,sharex=True,sharey=True)\n",
    "axs[0].plot(vid_df.groupby(level=0).lightness.mean().pct_change(1).to_numpy())\n",
    "axs[1].plot(vid.pct_change(1))"
   ]
  },
  {
   "cell_type": "code",
   "execution_count": null,
   "metadata": {},
   "outputs": [
    {
     "data": {
      "text/plain": [
       "frame\n",
       "0      101.233148\n",
       "1      101.229630\n",
       "2      101.204352\n",
       "3      101.181667\n",
       "4      101.148426\n",
       "          ...    \n",
       "780     43.425093\n",
       "781     43.927315\n",
       "782     43.904167\n",
       "783     43.930093\n",
       "784     43.933333\n",
       "Name: lightness, Length: 785, dtype: float64"
      ]
     },
     "execution_count": 33,
     "metadata": {},
     "output_type": "execute_result"
    }
   ],
   "source": []
  }
 ],
 "metadata": {
  "kernelspec": {
   "display_name": "epilator",
   "language": "python",
   "name": "python3"
  },
  "language_info": {
   "codemirror_mode": {
    "name": "ipython",
    "version": 3
   },
   "file_extension": ".py",
   "mimetype": "text/x-python",
   "name": "python",
   "nbconvert_exporter": "python",
   "pygments_lexer": "ipython3",
   "version": "3.11.0"
  },
  "orig_nbformat": 4
 },
 "nbformat": 4,
 "nbformat_minor": 2
}
