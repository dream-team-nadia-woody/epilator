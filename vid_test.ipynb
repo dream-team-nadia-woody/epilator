{
 "cells": [
  {
   "cell_type": "code",
   "execution_count": 2,
   "metadata": {},
   "outputs": [],
   "source": [
    "import video as v\n",
    "from importlib import reload"
   ]
  },
  {
   "cell_type": "code",
   "execution_count": 27,
   "metadata": {},
   "outputs": [
    {
     "data": {
      "text/plain": [
       "array([[[  0,  36,   0],\n",
       "        [  0,  34,   0],\n",
       "        [  0,  32,   0],\n",
       "        ...,\n",
       "        [ 55,  20,  38],\n",
       "        [ 55,  20,  38],\n",
       "        [ 55,  20,  38]],\n",
       "\n",
       "       [[  0,  36,   0],\n",
       "        [  0,  34,   0],\n",
       "        [  0,  32,   0],\n",
       "        ...,\n",
       "        [ 55,  20,  38],\n",
       "        [ 55,  20,  38],\n",
       "        [ 55,  20,  38]],\n",
       "\n",
       "       [[  0,  36,   0],\n",
       "        [  0,  34,   0],\n",
       "        [  0,  33,   0],\n",
       "        ...,\n",
       "        [ 55,  20,  38],\n",
       "        [ 55,  20,  38],\n",
       "        [ 55,  20,  38]],\n",
       "\n",
       "       ...,\n",
       "\n",
       "       [[123,  88,  29],\n",
       "        [123,  84,  30],\n",
       "        [123,  80,  32],\n",
       "        ...,\n",
       "        [172, 138, 115],\n",
       "        [172, 145, 160],\n",
       "        [174, 145, 153]],\n",
       "\n",
       "       [[123,  87,  29],\n",
       "        [123,  85,  30],\n",
       "        [123,  84,  30],\n",
       "        ...,\n",
       "        [173, 142, 138],\n",
       "        [173, 147, 170],\n",
       "        [175, 147, 166]],\n",
       "\n",
       "       [[123,  86,  30],\n",
       "        [123,  85,  30],\n",
       "        [123,  85,  30],\n",
       "        ...,\n",
       "        [173, 145, 156],\n",
       "        [174, 147, 170],\n",
       "        [175, 147, 163]]], dtype=uint8)"
      ]
     },
     "execution_count": 27,
     "metadata": {},
     "output_type": "execute_result"
    }
   ],
   "source": [
    "reload(v)\n",
    "vid = v.Video.from_file('videos/Banned Pokemon Seizure Scene.mp4')\n",
    "vid[0]"
   ]
  }
 ],
 "metadata": {
  "kernelspec": {
   "display_name": "epilator",
   "language": "python",
   "name": "python3"
  },
  "language_info": {
   "codemirror_mode": {
    "name": "ipython",
    "version": 3
   },
   "file_extension": ".py",
   "mimetype": "text/x-python",
   "name": "python",
   "nbconvert_exporter": "python",
   "pygments_lexer": "ipython3",
   "version": "3.11.0"
  },
  "orig_nbformat": 4
 },
 "nbformat": 4,
 "nbformat_minor": 2
}
