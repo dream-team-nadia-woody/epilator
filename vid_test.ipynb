{
 "cells": [
  {
   "cell_type": "code",
   "execution_count": 4,
   "metadata": {},
   "outputs": [],
   "source": [
    "import video as v\n",
    "from importlib import reload\n"
   ]
  },
  {
   "cell_type": "code",
   "execution_count": 18,
   "metadata": {},
   "outputs": [
    {
     "data": {
      "text/plain": [
       "array([[[  0,   0,   0, ...,  55,  55,  55],\n",
       "        [  0,   0,   0, ...,  55,  55,  55],\n",
       "        [  0,   0,   0, ...,  55,  55,  55],\n",
       "        ...,\n",
       "        [123, 123, 123, ..., 172, 172, 174],\n",
       "        [123, 123, 123, ..., 173, 173, 175],\n",
       "        [123, 123, 123, ..., 173, 174, 175]],\n",
       "\n",
       "       [[  0,   0,   0, ...,  55,  55,  55],\n",
       "        [  0,   0,   0, ...,  55,  55,  55],\n",
       "        [  0,   0,   0, ...,  55,  55,  55],\n",
       "        ...,\n",
       "        [123, 123, 123, ..., 172, 172, 174],\n",
       "        [123, 123, 123, ..., 173, 173, 175],\n",
       "        [123, 123, 123, ..., 173, 174, 175]]], dtype=uint8)"
      ]
     },
     "execution_count": 18,
     "metadata": {},
     "output_type": "execute_result"
    }
   ],
   "source": [
    "reload(v)\n",
    "vid = v.Video.from_file('videos/Banned Pokemon Seizure Scene.mp4')\n"
   ]
  },
  {
   "cell_type": "code",
   "execution_count": 13,
   "metadata": {},
   "outputs": [
    {
     "data": {
      "text/plain": [
       "slice(1, 2, 3)"
      ]
     },
     "execution_count": 13,
     "metadata": {},
     "output_type": "execute_result"
    }
   ],
   "source": [
    "slice(zer)\n"
   ]
  }
 ],
 "metadata": {
  "kernelspec": {
   "display_name": "epilator",
   "language": "python",
   "name": "python3"
  },
  "language_info": {
   "codemirror_mode": {
    "name": "ipython",
    "version": 3
   },
   "file_extension": ".py",
   "mimetype": "text/x-python",
   "name": "python",
   "nbconvert_exporter": "python",
   "pygments_lexer": "ipython3",
   "version": "3.11.0"
  },
  "orig_nbformat": 4
 },
 "nbformat": 4,
 "nbformat_minor": 2
}
