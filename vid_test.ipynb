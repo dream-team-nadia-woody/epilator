{
 "cells": [
  {
   "cell_type": "code",
   "execution_count": 1,
   "metadata": {},
   "outputs": [],
   "source": [
    "from video import df, display, generator, reader, vid\n",
    "import numpy as np\n",
    "from importlib import reload\n",
    "from cv2 import inRange\n",
    "import matplotlib.pyplot as plt\n"
   ]
  },
  {
   "cell_type": "code",
   "execution_count": 2,
   "metadata": {},
   "outputs": [
    {
     "name": "stderr",
     "output_type": "stream",
     "text": [
      "/Users/woody/Developer/epilator/video.py:176: UserWarning: video DataFrames will be deprecated in next release. \n",
      "    To continue using, please import video.df\n",
      "    \n",
      "  warn('''video DataFrames will be deprecated in next release.\n"
     ]
    }
   ],
   "source": [
    "reload(v)\n",
    "reload(d)\n",
    "path = 'videos/Banned Pokemon Seizure Scene.mp4'\n",
    "vid = v.Video.from_file(path)\n",
    "vid_2 = v.get_vid_df(path)"
   ]
  }
 ],
 "metadata": {
  "kernelspec": {
   "display_name": "epilator",
   "language": "python",
   "name": "python3"
  },
  "language_info": {
   "codemirror_mode": {
    "name": "ipython",
    "version": 3
   },
   "file_extension": ".py",
   "mimetype": "text/x-python",
   "name": "python",
   "nbconvert_exporter": "python",
   "pygments_lexer": "ipython3",
   "version": "3.11.0"
  },
  "orig_nbformat": 4
 },
 "nbformat": 4,
 "nbformat_minor": 2
}
