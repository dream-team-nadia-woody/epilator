{
 "cells": [
  {
   "cell_type": "code",
   "execution_count": 17,
   "metadata": {},
   "outputs": [],
   "source": [
    "import numpy as np\n",
    "import pandas as pd\n",
    "import matplotlib.pyplot as plt \n",
    "import seaborn as sns\n",
    "import cv2 as cv\n",
    "\n",
    "import downloader as d \n",
    "import video as v"
   ]
  },
  {
   "cell_type": "code",
   "execution_count": 14,
   "metadata": {},
   "outputs": [],
   "source": [
    "from typing import Tuple, Union\n",
    "from numpy.typing import NDArray\n",
    "from dataclasses import dataclass\n",
    "from collections import deque"
   ]
  },
  {
   "cell_type": "code",
   "execution_count": 6,
   "metadata": {},
   "outputs": [],
   "source": [
    "from importlib import reload"
   ]
  },
  {
   "cell_type": "code",
   "execution_count": 8,
   "metadata": {},
   "outputs": [
    {
     "data": {
      "text/plain": [
       "<module 'video' from '/Users/nadina/Documents/codeup/epilator/video.py'>"
      ]
     },
     "execution_count": 8,
     "metadata": {},
     "output_type": "execute_result"
    }
   ],
   "source": [
    "reload(v)"
   ]
  },
  {
   "cell_type": "code",
   "execution_count": 33,
   "metadata": {},
   "outputs": [],
   "source": [
    "def get_video(path: str) -> Tuple[NDArray, int]:\n",
    "    vid = v.Video(path)\n",
    "    fps = vid.video.get(cv.CAP_PROP_FPS)\n",
    "    vid = np.asarray(vid)\n",
    "    video = np.fromiter(vid, np.ndarray)\n",
    "    return np.stack(video), int(round(fps))\n",
    "\n",
    "def get_vid_df(path: str) -> pd.DataFrame:\n",
    "    vid,fps = get_video(path)\n",
    "    frames = vid.shape[0]\n",
    "    height = vid.shape[1]\n",
    "    width = vid.shape[2]\n",
    "    df = pd.DataFrame(vid.reshape((-1,3)))\n",
    "    df['frame'] = df.index // (width * height)\n",
    "    df['x'] = df.index % width\n",
    "    df['y'] = df.index // width % height\n",
    "    df = df.set_index(['frame','y','x']).rename(columns={\n",
    "        0:'hue',\n",
    "        1:'lightness',\n",
    "        2:'saturation',\n",
    "    })\n",
    "    df.attrs['fps'] = fps\n",
    "    return df"
   ]
  },
  {
   "cell_type": "code",
   "execution_count": 27,
   "metadata": {},
   "outputs": [],
   "source": [
    "vid = v.Video('videos/Banned Pokemon Seizure Scene.mp4')"
   ]
  },
  {
   "cell_type": "code",
   "execution_count": 29,
   "metadata": {},
   "outputs": [],
   "source": [
    "vid1 = cv.VideoCapture('videos/Banned Pokemon Seizure Scene.mp4')"
   ]
  },
  {
   "cell_type": "code",
   "execution_count": 36,
   "metadata": {},
   "outputs": [
    {
     "ename": "AttributeError",
     "evalue": "module 'cv2' has no attribute 'GetMat'",
     "output_type": "error",
     "traceback": [
      "\u001b[0;31m---------------------------------------------------------------------------\u001b[0m",
      "\u001b[0;31mAttributeError\u001b[0m                            Traceback (most recent call last)",
      "\u001b[1;32m/Users/nadina/Documents/codeup/epilator/video_df.ipynb Cell 8\u001b[0m in \u001b[0;36m<cell line: 1>\u001b[0;34m()\u001b[0m\n\u001b[0;32m----> <a href='vscode-notebook-cell:/Users/nadina/Documents/codeup/epilator/video_df.ipynb#X14sdW50aXRsZWQ%3D?line=0'>1</a>\u001b[0m np\u001b[39m.\u001b[39masarray(cv\u001b[39m.\u001b[39;49mGetMat(vid1))\u001b[39m.\u001b[39mshape\n",
      "\u001b[0;31mAttributeError\u001b[0m: module 'cv2' has no attribute 'GetMat'"
     ]
    }
   ],
   "source": [
    "vid2 = vid1.read()"
   ]
  },
  {
   "cell_type": "code",
   "execution_count": 30,
   "metadata": {},
   "outputs": [
    {
     "data": {
      "text/plain": [
       "cv2.VideoCapture"
      ]
     },
     "execution_count": 30,
     "metadata": {},
     "output_type": "execute_result"
    }
   ],
   "source": [
    "type(vid1)"
   ]
  },
  {
   "cell_type": "code",
   "execution_count": 34,
   "metadata": {},
   "outputs": [
    {
     "ename": "TypeError",
     "evalue": "iteration over a 0-d array",
     "output_type": "error",
     "traceback": [
      "\u001b[0;31m---------------------------------------------------------------------------\u001b[0m",
      "\u001b[0;31mTypeError\u001b[0m                                 Traceback (most recent call last)",
      "\u001b[1;32m/Users/nadina/Documents/codeup/epilator/video_df.ipynb Cell 10\u001b[0m in \u001b[0;36m<cell line: 1>\u001b[0;34m()\u001b[0m\n\u001b[0;32m----> <a href='vscode-notebook-cell:/Users/nadina/Documents/codeup/epilator/video_df.ipynb#W5sdW50aXRsZWQ%3D?line=0'>1</a>\u001b[0m get_video(\u001b[39m'\u001b[39;49m\u001b[39mvideos/Banned Pokemon Seizure Scene.mp4\u001b[39;49m\u001b[39m'\u001b[39;49m)\n",
      "\u001b[1;32m/Users/nadina/Documents/codeup/epilator/video_df.ipynb Cell 10\u001b[0m in \u001b[0;36mget_video\u001b[0;34m(path)\u001b[0m\n\u001b[1;32m      <a href='vscode-notebook-cell:/Users/nadina/Documents/codeup/epilator/video_df.ipynb#W5sdW50aXRsZWQ%3D?line=2'>3</a>\u001b[0m fps \u001b[39m=\u001b[39m vid\u001b[39m.\u001b[39mvideo\u001b[39m.\u001b[39mget(cv\u001b[39m.\u001b[39mCAP_PROP_FPS)\n\u001b[1;32m      <a href='vscode-notebook-cell:/Users/nadina/Documents/codeup/epilator/video_df.ipynb#W5sdW50aXRsZWQ%3D?line=3'>4</a>\u001b[0m vid \u001b[39m=\u001b[39m np\u001b[39m.\u001b[39masarray(vid)\n\u001b[0;32m----> <a href='vscode-notebook-cell:/Users/nadina/Documents/codeup/epilator/video_df.ipynb#W5sdW50aXRsZWQ%3D?line=4'>5</a>\u001b[0m video \u001b[39m=\u001b[39m np\u001b[39m.\u001b[39;49mfromiter(vid, np\u001b[39m.\u001b[39;49mndarray)\n\u001b[1;32m      <a href='vscode-notebook-cell:/Users/nadina/Documents/codeup/epilator/video_df.ipynb#W5sdW50aXRsZWQ%3D?line=5'>6</a>\u001b[0m \u001b[39mreturn\u001b[39;00m np\u001b[39m.\u001b[39mstack(video), \u001b[39mint\u001b[39m(\u001b[39mround\u001b[39m(fps))\n",
      "\u001b[0;31mTypeError\u001b[0m: iteration over a 0-d array"
     ]
    }
   ],
   "source": [
    "get_video('videos/Banned Pokemon Seizure Scene.mp4')"
   ]
  },
  {
   "cell_type": "code",
   "execution_count": 9,
   "metadata": {},
   "outputs": [
    {
     "ename": "ValueError",
     "evalue": "cannot create object arrays from iterator",
     "output_type": "error",
     "traceback": [
      "\u001b[0;31m---------------------------------------------------------------------------\u001b[0m",
      "\u001b[0;31mValueError\u001b[0m                                Traceback (most recent call last)",
      "\u001b[1;32m/Users/nadina/Documents/codeup/epilator/video_df.ipynb Cell 4\u001b[0m in \u001b[0;36m<cell line: 1>\u001b[0;34m()\u001b[0m\n\u001b[0;32m----> <a href='vscode-notebook-cell:/Users/nadina/Documents/codeup/epilator/video_df.ipynb#W1sdW50aXRsZWQ%3D?line=0'>1</a>\u001b[0m df \u001b[39m=\u001b[39m v\u001b[39m.\u001b[39;49mget_vid_df(\u001b[39m'\u001b[39;49m\u001b[39mvideos/Banned Pokemon Seizure Scene.mp4\u001b[39;49m\u001b[39m'\u001b[39;49m)\n",
      "File \u001b[0;32m~/Documents/codeup/epilator/video.py:42\u001b[0m, in \u001b[0;36mget_vid_df\u001b[0;34m(path)\u001b[0m\n\u001b[1;32m     41\u001b[0m \u001b[39mdef\u001b[39;00m \u001b[39mget_vid_df\u001b[39m(path: \u001b[39mstr\u001b[39m) \u001b[39m-\u001b[39m\u001b[39m>\u001b[39m pd\u001b[39m.\u001b[39mDataFrame:\n\u001b[0;32m---> 42\u001b[0m     vid,fps \u001b[39m=\u001b[39m get_video(path)\n\u001b[1;32m     43\u001b[0m     frames \u001b[39m=\u001b[39m vid\u001b[39m.\u001b[39mshape[\u001b[39m0\u001b[39m]\n\u001b[1;32m     44\u001b[0m     height \u001b[39m=\u001b[39m vid\u001b[39m.\u001b[39mshape[\u001b[39m1\u001b[39m]\n",
      "File \u001b[0;32m~/Documents/codeup/epilator/video.py:37\u001b[0m, in \u001b[0;36mget_video\u001b[0;34m(path)\u001b[0m\n\u001b[1;32m     35\u001b[0m vid \u001b[39m=\u001b[39m Video(path)\n\u001b[1;32m     36\u001b[0m fps \u001b[39m=\u001b[39m vid\u001b[39m.\u001b[39mvideo\u001b[39m.\u001b[39mget(cv\u001b[39m.\u001b[39mCAP_PROP_FPS)\n\u001b[0;32m---> 37\u001b[0m video \u001b[39m=\u001b[39m np\u001b[39m.\u001b[39;49mfromiter((_ \u001b[39mfor\u001b[39;49;00m _ \u001b[39min\u001b[39;49;00m vid), np\u001b[39m.\u001b[39;49mndarray)\n\u001b[1;32m     38\u001b[0m \u001b[39mreturn\u001b[39;00m np\u001b[39m.\u001b[39mstack(video), \u001b[39mint\u001b[39m(\u001b[39mround\u001b[39m(fps))\n",
      "\u001b[0;31mValueError\u001b[0m: cannot create object arrays from iterator"
     ]
    }
   ],
   "source": [
    "df = v.get_vid_df('videos/Banned Pokemon Seizure Scene.mp4')"
   ]
  },
  {
   "cell_type": "code",
   "execution_count": null,
   "metadata": {},
   "outputs": [],
   "source": []
  }
 ],
 "metadata": {
  "kernelspec": {
   "display_name": "base",
   "language": "python",
   "name": "python3"
  },
  "language_info": {
   "codemirror_mode": {
    "name": "ipython",
    "version": 3
   },
   "file_extension": ".py",
   "mimetype": "text/x-python",
   "name": "python",
   "nbconvert_exporter": "python",
   "pygments_lexer": "ipython3",
   "version": "3.9.12"
  },
  "orig_nbformat": 4
 },
 "nbformat": 4,
 "nbformat_minor": 2
}
