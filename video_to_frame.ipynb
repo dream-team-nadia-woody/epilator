{
 "cells": [
  {
   "cell_type": "code",
   "execution_count": 2,
   "metadata": {},
   "outputs": [],
   "source": [
    "import cv2\n",
    "import numpy as np \n",
    "import os"
   ]
  },
  {
   "cell_type": "code",
   "execution_count": 5,
   "metadata": {},
   "outputs": [],
   "source": [
    "video_path = 'videos/Banned Pokemon Seizure Scene.mp4'\n",
    "images_path = 'video1'\n",
    "if not os.path.isdir(images_path):\n",
    "    os.mkdir(images_path)"
   ]
  },
  {
   "cell_type": "code",
   "execution_count": 8,
   "metadata": {},
   "outputs": [],
   "source": [
    "# capture video\n",
    "video = cv2.VideoCapture(video_path)\n",
    "\n",
    "# sec -> starting second\n",
    "def getFrame(sec: int = 0):\n",
    "    # 2nd parameter converts seconds to miliseconds\n",
    "    video.set(cv2.CAP_PROP_POS_MSEC,sec*1000)\n",
    "    hasFrames,image = video.read()\n",
    "    if hasFrames:\n",
    "        image = cv2.resize(image, dsize=(600, 400))\n",
    "        cv2.imwrite(images_path + \"/img\"+str(count)+\".jpg\", image)     # save frame as JPG file\n",
    "    return hasFrames"
   ]
  },
  {
   "cell_type": "code",
   "execution_count": 9,
   "metadata": {},
   "outputs": [],
   "source": [
    "sec = 0\n",
    "fps = 0.5 #//it will capture image in each 0.5 second\n",
    "#fps = video.get(cv2.CV_CAP_PROP_FPS)\n",
    "count=1\n",
    "success = getFrame(sec)\n",
    "while getFrame(sec):\n",
    "    count = count + 1\n",
    "    sec = sec + fps\n",
    "    sec = round(sec, 2)\n",
    "    "
   ]
  },
  {
   "cell_type": "code",
   "execution_count": null,
   "metadata": {},
   "outputs": [],
   "source": [
    "def videos_to_images():\n",
    "    '''\n",
    "\n",
    "    '''\n",
    "    # set starting "
   ]
  },
  {
   "cell_type": "code",
   "execution_count": 2,
   "metadata": {},
   "outputs": [],
   "source": [
    "videos = 'videos/'"
   ]
  },
  {
   "cell_type": "code",
   "execution_count": null,
   "metadata": {},
   "outputs": [],
   "source": [
    "# for video in os.listdir(videos):\n",
    "#     frame = os.path.join(videos, video)\n",
    "#     frame = frame.resize(frame, dsize=(600, 400))\n",
    "#     cv2.imshow('Display Image', frame)\n",
    "#     # 0xff -> escape, 27 escape code as well\n",
    "#     k = cv2.waitKey(30) & 0xff\n",
    "#     # if escape key pressed\n",
    "#     if k == 27:\n",
    "#         break\n",
    "# cv2.destroyAllWindows()"
   ]
  }
 ],
 "metadata": {
  "kernelspec": {
   "display_name": "base",
   "language": "python",
   "name": "python3"
  },
  "language_info": {
   "codemirror_mode": {
    "name": "ipython",
    "version": 3
   },
   "file_extension": ".py",
   "mimetype": "text/x-python",
   "name": "python",
   "nbconvert_exporter": "python",
   "pygments_lexer": "ipython3",
   "version": "3.9.12"
  },
  "orig_nbformat": 4
 },
 "nbformat": 4,
 "nbformat_minor": 2
}
