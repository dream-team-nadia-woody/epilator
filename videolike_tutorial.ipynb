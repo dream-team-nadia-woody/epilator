{
 "cells": [
  {
   "attachments": {},
   "cell_type": "markdown",
   "metadata": {},
   "source": [
    "## A tutorial on how to use the `VideoLike` classes (`video.Frame` and `video.Video`)"
   ]
  },
  {
   "attachments": {},
   "cell_type": "markdown",
   "metadata": {},
   "source": [
    "### imports"
   ]
  },
  {
   "cell_type": "code",
   "execution_count": 3,
   "metadata": {},
   "outputs": [],
   "source": [
    "from video import vid as v\n",
    "## You shouldn't ever need to import this, \n",
    "from video.videolike import VideoLike \n",
    "from video.reader import VideoReader\n",
    "import numpy as np\n"
   ]
  },
  {
   "attachments": {},
   "cell_type": "markdown",
   "metadata": {},
   "source": [
    "## A brief note on classes and inheretance\n",
    "\n",
    "Classes in Python (and most other Object-Oriented languages) can store data, and perform actions on that data. a `DataFrame` is one example. It both stores the data that you're exploring/modeling, and it can do things to that data, like get the mean, group the data, and render that data as HTML (that's why it looks so pretty in notebooks). Classes can be their own thing, or they can be a starting point for subclasses. [Here's a better explanation than I can give myself](https://www.programiz.com/python-programming/inheritance)."
   ]
  },
  {
   "attachments": {},
   "cell_type": "markdown",
   "metadata": {},
   "source": [
    "in the `video` library, there is a class called `VideoLike`. This is what's called an *abstract class*. All this means is that `VideoLike` only exists to be inhereted from, allowing any subclasses to use the functionality it implements. "
   ]
  },
  {
   "cell_type": "code",
   "execution_count": 6,
   "metadata": {},
   "outputs": [
    {
     "ename": "TypeError",
     "evalue": "Can't instantiate abstract class VideoLike with abstract method show",
     "output_type": "error",
     "traceback": [
      "\u001b[0;31m---------------------------------------------------------------------------\u001b[0m",
      "\u001b[0;31mTypeError\u001b[0m                                 Traceback (most recent call last)",
      "Cell \u001b[0;32mIn[6], line 2\u001b[0m\n\u001b[1;32m      1\u001b[0m \u001b[39m# will throw an error\u001b[39;00m\n\u001b[0;32m----> 2\u001b[0m VideoLike\u001b[39m.\u001b[39;49mfrom_file(\u001b[39m'\u001b[39;49m\u001b[39mvideos/Banned Pokemon Seizure Scene.mp4\u001b[39;49m\u001b[39m'\u001b[39;49m)\n",
      "File \u001b[0;32m~/Developer/epilator/video/videolike.py:151\u001b[0m, in \u001b[0;36mVideoLike.from_file\u001b[0;34m(cls, path, converter)\u001b[0m\n\u001b[1;32m    142\u001b[0m \u001b[39m\u001b[39m\u001b[39m'''\u001b[39;00m\n\u001b[1;32m    143\u001b[0m \u001b[39mCreates a new video object from file\u001b[39;00m\n\u001b[1;32m    144\u001b[0m \u001b[39m## Parameters:\u001b[39;00m\n\u001b[0;32m   (...)\u001b[0m\n\u001b[1;32m    148\u001b[0m \u001b[39ma new Video object\u001b[39;00m\n\u001b[1;32m    149\u001b[0m \u001b[39m'''\u001b[39;00m\n\u001b[1;32m    150\u001b[0m vid, fps \u001b[39m=\u001b[39m VideoReader\u001b[39m.\u001b[39mget_vid(path, converter\u001b[39m.\u001b[39mvalue\u001b[39m.\u001b[39mload)\n\u001b[0;32m--> 151\u001b[0m \u001b[39mreturn\u001b[39;00m \u001b[39mcls\u001b[39;49m(vid, fps, converter)\n",
      "\u001b[0;31mTypeError\u001b[0m: Can't instantiate abstract class VideoLike with abstract method show"
     ]
    }
   ],
   "source": [
    "# will throw an error\n",
    "VideoLike.from_file('videos/Banned Pokemon Seizure Scene.mp4')"
   ]
  },
  {
   "attachments": {},
   "cell_type": "markdown",
   "metadata": {},
   "source": [
    "The only class you will have to worry about is the `Video` class. The `Frame`"
   ]
  },
  {
   "attachments": {},
   "cell_type": "markdown",
   "metadata": {},
   "source": [
    "## Opening a video\n",
    "you can open a video using `vid.Video.from_file(path/to/file)`"
   ]
  },
  {
   "cell_type": "code",
   "execution_count": 5,
   "metadata": {},
   "outputs": [],
   "source": [
    "vid = v.Video.from_file('videos/Banned Pokemon Seizure Scene.mp4')"
   ]
  },
  {
   "attachments": {},
   "cell_type": "markdown",
   "metadata": {},
   "source": [
    "## Accessing and showing frame(s)\n",
    "You can use the `[]` notation to access individual frames of a video, or "
   ]
  }
 ],
 "metadata": {
  "kernelspec": {
   "display_name": "epilator",
   "language": "python",
   "name": "python3"
  },
  "language_info": {
   "codemirror_mode": {
    "name": "ipython",
    "version": 3
   },
   "file_extension": ".py",
   "mimetype": "text/x-python",
   "name": "python",
   "nbconvert_exporter": "python",
   "pygments_lexer": "ipython3",
   "version": "3.11.0"
  },
  "orig_nbformat": 4
 },
 "nbformat": 4,
 "nbformat_minor": 2
}
